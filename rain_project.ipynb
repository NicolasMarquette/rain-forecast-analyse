{
 "cells": [
  {
   "cell_type": "markdown",
   "metadata": {},
   "source": [
    "# Import des modules"
   ]
  },
  {
   "cell_type": "code",
   "execution_count": 1,
   "metadata": {},
   "outputs": [],
   "source": [
    "import pandas as pd\n",
    "import numpy as np\n",
    "import seaborn as sns\n",
    "import matplotlib.pyplot as plt\n",
    "\n",
    "%matplotlib inline"
   ]
  },
  {
   "cell_type": "markdown",
   "metadata": {},
   "source": [
    "## Modules pour le machine learning et le preprocessing"
   ]
  },
  {
   "cell_type": "code",
   "execution_count": 2,
   "metadata": {},
   "outputs": [],
   "source": [
    "from sklearn.model_selection import train_test_split\n",
    "\n",
    "from sklearn.tree import DecisionTreeClassifier\n",
    "from sklearn.linear_model import LogisticRegression\n",
    "from sklearn.naive_bayes import GaussianNB\n",
    "from sklearn.neighbors import KNeighborsClassifier\n",
    "from sklearn.ensemble import GradientBoostingClassifier\n",
    "\n",
    "from sklearn.preprocessing import MinMaxScaler, OrdinalEncoder\n",
    "from sklearn.metrics import balanced_accuracy_score, accuracy_score\n",
    "\n",
    "from sklearn.model_selection import GridSearchCV\n",
    "\n",
    "from imblearn.pipeline import Pipeline\n",
    "from imblearn.over_sampling import RandomOverSampler, SMOTE\n",
    "from imblearn.under_sampling import RandomUnderSampler, ClusterCentroids\n",
    "from imblearn.combine import SMOTEENN\n",
    "\n",
    "import warnings\n",
    "warnings.filterwarnings(\"ignore\")\n"
   ]
  },
  {
   "cell_type": "markdown",
   "metadata": {},
   "source": [
    "# Importation du jeu de données"
   ]
  },
  {
   "cell_type": "code",
   "execution_count": 3,
   "metadata": {},
   "outputs": [
    {
     "data": {
      "text/html": [
       "<div>\n",
       "<style scoped>\n",
       "    .dataframe tbody tr th:only-of-type {\n",
       "        vertical-align: middle;\n",
       "    }\n",
       "\n",
       "    .dataframe tbody tr th {\n",
       "        vertical-align: top;\n",
       "    }\n",
       "\n",
       "    .dataframe thead th {\n",
       "        text-align: right;\n",
       "    }\n",
       "</style>\n",
       "<table border=\"1\" class=\"dataframe\">\n",
       "  <thead>\n",
       "    <tr style=\"text-align: right;\">\n",
       "      <th></th>\n",
       "      <th></th>\n",
       "      <th>MinTemp</th>\n",
       "      <th>MaxTemp</th>\n",
       "      <th>Rainfall</th>\n",
       "      <th>Evaporation</th>\n",
       "      <th>Sunshine</th>\n",
       "      <th>WindGustDir</th>\n",
       "      <th>WindGustSpeed</th>\n",
       "      <th>WindDir9am</th>\n",
       "      <th>WindDir3pm</th>\n",
       "      <th>WindSpeed9am</th>\n",
       "      <th>...</th>\n",
       "      <th>Humidity9am</th>\n",
       "      <th>Humidity3pm</th>\n",
       "      <th>Pressure9am</th>\n",
       "      <th>Pressure3pm</th>\n",
       "      <th>Cloud9am</th>\n",
       "      <th>Cloud3pm</th>\n",
       "      <th>Temp9am</th>\n",
       "      <th>Temp3pm</th>\n",
       "      <th>RainToday</th>\n",
       "      <th>RainTomorrow</th>\n",
       "    </tr>\n",
       "    <tr>\n",
       "      <th>Location</th>\n",
       "      <th>Date</th>\n",
       "      <th></th>\n",
       "      <th></th>\n",
       "      <th></th>\n",
       "      <th></th>\n",
       "      <th></th>\n",
       "      <th></th>\n",
       "      <th></th>\n",
       "      <th></th>\n",
       "      <th></th>\n",
       "      <th></th>\n",
       "      <th></th>\n",
       "      <th></th>\n",
       "      <th></th>\n",
       "      <th></th>\n",
       "      <th></th>\n",
       "      <th></th>\n",
       "      <th></th>\n",
       "      <th></th>\n",
       "      <th></th>\n",
       "      <th></th>\n",
       "      <th></th>\n",
       "    </tr>\n",
       "  </thead>\n",
       "  <tbody>\n",
       "    <tr>\n",
       "      <th rowspan=\"5\" valign=\"top\">Newcastle</th>\n",
       "      <th>2008-12-01</th>\n",
       "      <td>13.2</td>\n",
       "      <td>NaN</td>\n",
       "      <td>0.0</td>\n",
       "      <td>NaN</td>\n",
       "      <td>NaN</td>\n",
       "      <td>NaN</td>\n",
       "      <td>NaN</td>\n",
       "      <td>NW</td>\n",
       "      <td>NW</td>\n",
       "      <td>6.0</td>\n",
       "      <td>...</td>\n",
       "      <td>50.0</td>\n",
       "      <td>24.0</td>\n",
       "      <td>NaN</td>\n",
       "      <td>NaN</td>\n",
       "      <td>3.0</td>\n",
       "      <td>4.0</td>\n",
       "      <td>21.8</td>\n",
       "      <td>30.6</td>\n",
       "      <td>No</td>\n",
       "      <td>No</td>\n",
       "    </tr>\n",
       "    <tr>\n",
       "      <th>2008-12-02</th>\n",
       "      <td>NaN</td>\n",
       "      <td>32.2</td>\n",
       "      <td>0.0</td>\n",
       "      <td>NaN</td>\n",
       "      <td>NaN</td>\n",
       "      <td>NaN</td>\n",
       "      <td>NaN</td>\n",
       "      <td>NaN</td>\n",
       "      <td>NE</td>\n",
       "      <td>NaN</td>\n",
       "      <td>...</td>\n",
       "      <td>NaN</td>\n",
       "      <td>59.0</td>\n",
       "      <td>NaN</td>\n",
       "      <td>NaN</td>\n",
       "      <td>NaN</td>\n",
       "      <td>0.0</td>\n",
       "      <td>NaN</td>\n",
       "      <td>25.4</td>\n",
       "      <td>No</td>\n",
       "      <td>No</td>\n",
       "    </tr>\n",
       "    <tr>\n",
       "      <th>2008-12-03</th>\n",
       "      <td>16.2</td>\n",
       "      <td>32.2</td>\n",
       "      <td>0.0</td>\n",
       "      <td>NaN</td>\n",
       "      <td>NaN</td>\n",
       "      <td>NaN</td>\n",
       "      <td>NaN</td>\n",
       "      <td>N</td>\n",
       "      <td>SE</td>\n",
       "      <td>2.0</td>\n",
       "      <td>...</td>\n",
       "      <td>74.0</td>\n",
       "      <td>26.0</td>\n",
       "      <td>NaN</td>\n",
       "      <td>NaN</td>\n",
       "      <td>4.0</td>\n",
       "      <td>4.0</td>\n",
       "      <td>22.2</td>\n",
       "      <td>32.0</td>\n",
       "      <td>No</td>\n",
       "      <td>No</td>\n",
       "    </tr>\n",
       "    <tr>\n",
       "      <th>2008-12-04</th>\n",
       "      <td>19.2</td>\n",
       "      <td>24.0</td>\n",
       "      <td>0.0</td>\n",
       "      <td>NaN</td>\n",
       "      <td>NaN</td>\n",
       "      <td>NaN</td>\n",
       "      <td>NaN</td>\n",
       "      <td>SE</td>\n",
       "      <td>SE</td>\n",
       "      <td>22.0</td>\n",
       "      <td>...</td>\n",
       "      <td>66.0</td>\n",
       "      <td>61.0</td>\n",
       "      <td>NaN</td>\n",
       "      <td>NaN</td>\n",
       "      <td>7.0</td>\n",
       "      <td>5.0</td>\n",
       "      <td>20.4</td>\n",
       "      <td>23.0</td>\n",
       "      <td>No</td>\n",
       "      <td>No</td>\n",
       "    </tr>\n",
       "    <tr>\n",
       "      <th>2008-12-05</th>\n",
       "      <td>18.8</td>\n",
       "      <td>30.2</td>\n",
       "      <td>0.0</td>\n",
       "      <td>NaN</td>\n",
       "      <td>NaN</td>\n",
       "      <td>NaN</td>\n",
       "      <td>NaN</td>\n",
       "      <td>NE</td>\n",
       "      <td>NaN</td>\n",
       "      <td>4.0</td>\n",
       "      <td>...</td>\n",
       "      <td>85.0</td>\n",
       "      <td>NaN</td>\n",
       "      <td>NaN</td>\n",
       "      <td>NaN</td>\n",
       "      <td>8.0</td>\n",
       "      <td>NaN</td>\n",
       "      <td>20.0</td>\n",
       "      <td>NaN</td>\n",
       "      <td>No</td>\n",
       "      <td>No</td>\n",
       "    </tr>\n",
       "  </tbody>\n",
       "</table>\n",
       "<p>5 rows × 21 columns</p>\n",
       "</div>"
      ],
      "text/plain": [
       "                      MinTemp  MaxTemp  Rainfall  Evaporation  Sunshine  \\\n",
       "Location  Date                                                            \n",
       "Newcastle 2008-12-01     13.2      NaN       0.0          NaN       NaN   \n",
       "          2008-12-02      NaN     32.2       0.0          NaN       NaN   \n",
       "          2008-12-03     16.2     32.2       0.0          NaN       NaN   \n",
       "          2008-12-04     19.2     24.0       0.0          NaN       NaN   \n",
       "          2008-12-05     18.8     30.2       0.0          NaN       NaN   \n",
       "\n",
       "                     WindGustDir  WindGustSpeed WindDir9am WindDir3pm  \\\n",
       "Location  Date                                                          \n",
       "Newcastle 2008-12-01         NaN            NaN         NW         NW   \n",
       "          2008-12-02         NaN            NaN        NaN         NE   \n",
       "          2008-12-03         NaN            NaN          N         SE   \n",
       "          2008-12-04         NaN            NaN         SE         SE   \n",
       "          2008-12-05         NaN            NaN         NE        NaN   \n",
       "\n",
       "                      WindSpeed9am  ...  Humidity9am  Humidity3pm  \\\n",
       "Location  Date                      ...                             \n",
       "Newcastle 2008-12-01           6.0  ...         50.0         24.0   \n",
       "          2008-12-02           NaN  ...          NaN         59.0   \n",
       "          2008-12-03           2.0  ...         74.0         26.0   \n",
       "          2008-12-04          22.0  ...         66.0         61.0   \n",
       "          2008-12-05           4.0  ...         85.0          NaN   \n",
       "\n",
       "                      Pressure9am  Pressure3pm  Cloud9am  Cloud3pm  Temp9am  \\\n",
       "Location  Date                                                                \n",
       "Newcastle 2008-12-01          NaN          NaN       3.0       4.0     21.8   \n",
       "          2008-12-02          NaN          NaN       NaN       0.0      NaN   \n",
       "          2008-12-03          NaN          NaN       4.0       4.0     22.2   \n",
       "          2008-12-04          NaN          NaN       7.0       5.0     20.4   \n",
       "          2008-12-05          NaN          NaN       8.0       NaN     20.0   \n",
       "\n",
       "                      Temp3pm  RainToday RainTomorrow  \n",
       "Location  Date                                         \n",
       "Newcastle 2008-12-01     30.6         No           No  \n",
       "          2008-12-02     25.4         No           No  \n",
       "          2008-12-03     32.0         No           No  \n",
       "          2008-12-04     23.0         No           No  \n",
       "          2008-12-05      NaN         No           No  \n",
       "\n",
       "[5 rows x 21 columns]"
      ]
     },
     "execution_count": 3,
     "metadata": {},
     "output_type": "execute_result"
    }
   ],
   "source": [
    "df = pd.read_csv('https://assets-datascientest.s3-eu-west-1.amazonaws.com/de/total/rains.csv', index_col=[1,0])\n",
    "\n",
    "df.head()"
   ]
  },
  {
   "cell_type": "code",
   "execution_count": 4,
   "metadata": {},
   "outputs": [
    {
     "name": "stdout",
     "output_type": "stream",
     "text": [
      "(25631, 21)\n",
      "['Newcastle', 'Sydney', 'Canberra', 'Melbourne', 'Brisbane', 'GoldCoast', 'Adelaide', 'Perth']\n",
      "2007-11-01 -> 2017-06-25\n"
     ]
    }
   ],
   "source": [
    "print(df.shape)\n",
    "print(df.index.get_level_values(0).unique().tolist())\n",
    "print(df.index.get_level_values(1).min(), '->' , df.index.get_level_values(1).max())"
   ]
  },
  {
   "cell_type": "markdown",
   "metadata": {},
   "source": [
    "Le jeux de données contient **25 631** observations constituées de **21** colonnes concernant **8** villes australiennes du 2007 au 2017.\n",
    "\n",
    "La variable cible est *RainTomorrow*. Il s'agît d'une variable discrète qui peut prendre 2 valeurs (Yes/No) : le problème est donc un problème de **classification binaire**. \n",
    "\n",
    "Des 20 features, 17 sont des variables quantitatives et 3 qualitatives (*WindGustDir*, *WindDir9am*, *WindDir3pm*)."
   ]
  },
  {
   "cell_type": "markdown",
   "metadata": {},
   "source": [
    "# Préparation des données"
   ]
  },
  {
   "cell_type": "code",
   "execution_count": 5,
   "metadata": {},
   "outputs": [
    {
     "data": {
      "text/plain": [
       "0.5847216261558269"
      ]
     },
     "execution_count": 5,
     "metadata": {},
     "output_type": "execute_result"
    }
   ],
   "source": [
    "df.isna().any(axis=1).sum() / len(df)"
   ]
  },
  {
   "cell_type": "markdown",
   "metadata": {},
   "source": [
    "**58%** des observations contiennent au moins une valeure manquantes !"
   ]
  },
  {
   "cell_type": "code",
   "execution_count": 6,
   "metadata": {},
   "outputs": [
    {
     "name": "stdout",
     "output_type": "stream",
     "text": [
      "1062\n"
     ]
    }
   ],
   "source": [
    "print(df[\"RainTomorrow\"].isna().sum())\n",
    "df = df[-df[\"RainTomorrow\"].isna()]"
   ]
  },
  {
   "cell_type": "markdown",
   "metadata": {},
   "source": [
    "**1062** observations n'ont pas de valeur pour la variable cible. Nous commençon par eliminer ces observations.\n",
    "\n",
    "Observons maintenant quelles est la distribution des valeurs manquantes par variable."
   ]
  },
  {
   "cell_type": "code",
   "execution_count": 7,
   "metadata": {},
   "outputs": [
    {
     "data": {
      "image/png": "[encoded data removed]",
      "text/plain": [
       "<Figure size 864x576 with 1 Axes>"
      ]
     },
     "metadata": {},
     "output_type": "display_data"
    }
   ],
   "source": [
    "sns.set_theme()\n",
    "plt.figure(figsize=(12,8))\n",
    "b = sns.barplot(x=df.columns, y=df.isna().sum() / len(df) * 100)\n",
    "b.set_xticklabels(b.get_xticklabels(), rotation=70)\n",
    "b.set_xlabel(\"Nom des variables\")\n",
    "b.set_ylabel(\"% de valeurs manquantes\")\n",
    "b.xaxis.grid(True);"
   ]
  },
  {
   "cell_type": "markdown",
   "metadata": {},
   "source": [
    "Nous pouvons voir qu'il y a 4 variables qui sont absentes dans plus d'un tiers des observations : *Evaporation*, *Sunshine*, *Cloud9am* et *Cloud3pm*.\n",
    "\n",
    "Observons la distribution de leur absence par ville."
   ]
  },
  {
   "cell_type": "code",
   "execution_count": 8,
   "metadata": {},
   "outputs": [
    {
     "data": {
      "image/png": "[encoded data removed]",
      "text/plain": [
       "<Figure size 1440x864 with 8 Axes>"
      ]
     },
     "metadata": {},
     "output_type": "display_data"
    }
   ],
   "source": [
    "fig, ax = plt.subplots(4,2, sharex=True, sharey=True, figsize=(20,12))\n",
    "\n",
    "for i, location in enumerate(df.index.get_level_values(0).unique()):\n",
    "    sns.set_theme()\n",
    "    b = sns.barplot(x=df.columns, y=df.loc[location].isna().sum() / len(df.loc[location]) * 100, ax=ax[int(i/2),i%2])\n",
    "    b.set_xticklabels(b.get_xticklabels(), rotation=70)\n",
    "    b.set_title(location)\n",
    "    b.xaxis.grid(True)\n"
   ]
  },
  {
   "cell_type": "markdown",
   "metadata": {},
   "source": [
    "On peut observer que, pour les villes de Newcastle et Perth il n'y a pas du tout de données concernant ces 4 variables. Il paraît donc difficile de reconstruire leur valeur sur la base d'une interpolation ou d'une valeur moyenne. Nous décidons par conséquent d'éliminer ces 4 variables du jeu de données."
   ]
  },
  {
   "cell_type": "code",
   "execution_count": 9,
   "metadata": {},
   "outputs": [
    {
     "data": {
      "text/plain": [
       "(24569, 17)"
      ]
     },
     "execution_count": 9,
     "metadata": {},
     "output_type": "execute_result"
    }
   ],
   "source": [
    "df = df.drop([\"Evaporation\", \"Sunshine\", \"Cloud9am\", \"Cloud3pm\"], axis=1)\n",
    "df.shape"
   ]
  },
  {
   "cell_type": "markdown",
   "metadata": {},
   "source": [
    "Nous avons maintenant un jeu de 24 569 observations avec encore des Nans. Nous décidons de remplacer ces valeurs par une interpolation temporelle ville par ville. \n",
    "\n",
    "Cependant, avant, il est nécessaire avant de transformer les variables qualitatives en valeurs quantitatives."
   ]
  },
  {
   "cell_type": "code",
   "execution_count": 10,
   "metadata": {},
   "outputs": [],
   "source": [
    "dict_val = {\n",
    "    'N'     : 0,\n",
    "    'NNE'   : 22.5,\n",
    "    'NE'    : 45,\n",
    "    'ENE'   : 67.5,\n",
    "    'E'     : 90,\n",
    "    'ESE'   : 112.5,\n",
    "    'SE'    : 135,\n",
    "    'SSE'   : 157.5,\n",
    "    'S'     : 180,\n",
    "    'SSW'   : 202.5,\n",
    "    'SW'    : 225,\n",
    "    'WSW'   : 247.5,\n",
    "    'W'     : 270,\n",
    "    'WNW'\t: 292.5,\n",
    "    'NW'\t: 315,\n",
    "    'NNW'\t: 337.5,\n",
    "    'N'\t    : 360,\n",
    "\n",
    "    'Yes'   : 1,\n",
    "    'No'    : 0\n",
    "}\n",
    "\n",
    "df = df.replace(dict_val)"
   ]
  },
  {
   "cell_type": "code",
   "execution_count": 11,
   "metadata": {},
   "outputs": [
    {
     "data": {
      "text/plain": [
       "(20635, 17)"
      ]
     },
     "execution_count": 11,
     "metadata": {},
     "output_type": "execute_result"
    }
   ],
   "source": [
    "new_df = pd.DataFrame()\n",
    "for location in df.index.get_level_values(0).unique():\n",
    "    df_location = df.loc[location]\n",
    "    df_location.index = pd.DatetimeIndex(df_location.index)\n",
    "    df_location = df_location.interpolate(method='time').dropna().reset_index() #Drop first line, if first line is a Nan\n",
    "    df_location['Location'] = location\n",
    "    new_df = pd.concat([new_df, df_location])\n",
    "\n",
    "df = new_df.set_index(['Location', 'Date'])\n",
    "df.shape"
   ]
  },
  {
   "cell_type": "markdown",
   "metadata": {},
   "source": [
    "Pour terminer la préparation des données, nous ajoutons une variable raprésentant le mois de l'observation, qui a une influence sur la variable cible."
   ]
  },
  {
   "cell_type": "code",
   "execution_count": 12,
   "metadata": {},
   "outputs": [
    {
     "data": {
      "text/plain": [
       "(20635, 18)"
      ]
     },
     "execution_count": 12,
     "metadata": {},
     "output_type": "execute_result"
    }
   ],
   "source": [
    "df['Month'] = df.index.get_level_values(1).month\n",
    "df.shape"
   ]
  },
  {
   "cell_type": "markdown",
   "metadata": {},
   "source": [
    "Nous avons maintenant un jeu de données propre composé de **20 635** observations et **18** variables. \n",
    "\n",
    "Nous séparons le jeu de données en variable explicative **X** et variable cible **y**"
   ]
  },
  {
   "cell_type": "code",
   "execution_count": 13,
   "metadata": {},
   "outputs": [],
   "source": [
    "X = df.drop(columns=\"RainTomorrow\")\n",
    "y = df['RainTomorrow']"
   ]
  },
  {
   "cell_type": "markdown",
   "metadata": {},
   "source": [
    "# Modélisation\n",
    "\n",
    "Nous allons comparer dans cette partie la performance de différents modèles de classification binaire, en faisant varier leurs hyperparamètres (**hyperparameter tuning**).\n",
    "\n",
    "Pour cela, nous utilisons la fonction **GridSearchCV** de Scikit Learn."
   ]
  },
  {
   "cell_type": "code",
   "execution_count": 14,
   "metadata": {},
   "outputs": [],
   "source": [
    "def models_accuracy(X, y, sampler, models, params):\n",
    "    \"\"\"Function to find the better model and the best parameters.\"\"\"\n",
    "    resample = sampler\n",
    "    X_res, y_res = resample.fit_resample(X, y)\n",
    "    X_train,  X_test, y_train, y_test = train_test_split(X_res, y_res, test_size=0.3, random_state=42)\n",
    "\n",
    "    # Creation of a pipeline to scale the values and apply the model.\n",
    "    pipe = Pipeline(steps=[('preprocessor', MinMaxScaler()),\n",
    "                           ('m', models)])\n",
    "\n",
    "    # Tool to find the best parameters for a model.\n",
    "    grid = GridSearchCV(pipe, \n",
    "                        param_grid=params, \n",
    "                        scoring=[\"accuracy\", \"balanced_accuracy\"], \n",
    "                        n_jobs=2,\n",
    "                        refit=\"balanced_accuracy\",\n",
    "                        verbose=0)\n",
    "\n",
    "    # Training.\n",
    "    grid.fit(X_train, y_train)\n",
    "    accuracy_train = np.median([x for x in grid.cv_results_[\"mean_test_accuracy\"] if pd.isnull(x) == False])\n",
    "    balanced_accuracy_train = np.median([x for x in grid.cv_results_[\"mean_test_balanced_accuracy\"] if pd.isnull(x) == False])\n",
    "\n",
    "    # Test.\n",
    "    grid_predict = grid.predict(X_test)\n",
    "    accuracy_test = accuracy_score(y_test, grid_predict)\n",
    "    balanced_accuracy_test = balanced_accuracy_score(y_test, grid_predict)\n",
    "\n",
    "    # Resultat with the best parameters and the accuracy score \n",
    "    # and balanced accuracy score for both training and test\n",
    "    result = (grid.best_params_, accuracy_train, balanced_accuracy_train,\n",
    "    accuracy_test, balanced_accuracy_test, pd.crosstab(y_test, grid_predict))\n",
    "\n",
    "    return result\n",
    "    "
   ]
  },
  {
   "cell_type": "markdown",
   "metadata": {},
   "source": [
    "Nous avons selectionné 5 modèles de classification à comparer :\n",
    "- Arbre de décision\n",
    "- Gradient Boosting\n",
    "- Classificateur bayesien \n",
    "- Régression logistique\n",
    "- KNN"
   ]
  },
  {
   "cell_type": "code",
   "execution_count": 15,
   "metadata": {},
   "outputs": [],
   "source": [
    "models_to_compare = {\n",
    "    'Decision Tree Classifier' : DecisionTreeClassifier(class_weight=\"balanced\"), \n",
    "    'Gradient Boosting Classifier' : GradientBoostingClassifier(),\n",
    "    'Gaussian NB' : GaussianNB(),\n",
    "    'Logistic Regression' : LogisticRegression(max_iter=10000, n_jobs=1, class_weight=\"balanced\"),\n",
    "    'KNN' : KNeighborsClassifier(n_jobs=1)\n",
    "}"
   ]
  },
  {
   "cell_type": "markdown",
   "metadata": {},
   "source": [
    "Pour chaque modèle, nous avons défini une combinaison d'hyperparamètres à faire tester par GridSearchCV"
   ]
  },
  {
   "cell_type": "code",
   "execution_count": 16,
   "metadata": {},
   "outputs": [],
   "source": [
    "params_for_models = [\n",
    "        [{\"m__criterion\": [\"gini\", \"entropy\"],\n",
    "        \"m__splitter\": [\"best\", \"random\"],\n",
    "        \"m__min_samples_split\": np.arange(2, 6),\n",
    "        \"m__min_samples_leaf\": np.arange(2, 6)\n",
    "        }],\n",
    "        [{\"m__loss\": [\"deviance\", \"exponential\"],\n",
    "        \"m__learning_rate\": np.arange(0.1, 0.5, 0.1),\n",
    "        \"m__n_estimators\": np.arange(100, 160, 10),\n",
    "        }],\n",
    "        [{                    \n",
    "        }],   \n",
    "        [{\"m__penalty\": [\"l1\", \"l2\", \"elasticnet\", \"none\"],\n",
    "        \"m__solver\": [\"newton-cg\", \"lbfgs\", \"liblinear\", \"sag\", \"saga\"]}],\n",
    "        [{\"m__n_neighbors\": np.arange(5, 10),\n",
    "        \"m__weights\": [\"uniform\", \"distance\"],\n",
    "        \"m__algorithm\": [\"auto\", \"ball_tree\", \"kd_tree\", \"brute\"],\n",
    "        }]\n",
    "]\n"
   ]
  },
  {
   "cell_type": "markdown",
   "metadata": {},
   "source": [
    "Nous vérifions si le jeux de données est équilibré :"
   ]
  },
  {
   "cell_type": "code",
   "execution_count": 17,
   "metadata": {},
   "outputs": [
    {
     "data": {
      "text/plain": [
       "0    0.772619\n",
       "1    0.227381\n",
       "Name: RainTomorrow, dtype: float64"
      ]
     },
     "execution_count": 17,
     "metadata": {},
     "output_type": "execute_result"
    }
   ],
   "source": [
    "y.value_counts(normalize=True)"
   ]
  },
  {
   "cell_type": "markdown",
   "metadata": {},
   "source": [
    "On peut voir qu'il y a beaucoup plus de jours sans pluie que des jours avec pluie. \n",
    "\n",
    "Pour compenser ce désequilibre, nous allons tester différents méthodes d'over-sampling et under-sampling :"
   ]
  },
  {
   "cell_type": "code",
   "execution_count": 18,
   "metadata": {},
   "outputs": [],
   "source": [
    "samplers_to_compare = {\n",
    "    \"Random Over Sampler\": RandomOverSampler(),\n",
    "    \"SMOTE\": SMOTE(random_state=42),\n",
    "    \"Random Under Sampler\": RandomUnderSampler(),\n",
    "    \"Cluster Centroids\": ClusterCentroids(),\n",
    "    \"SMOTEENN\": SMOTEENN()\n",
    "}"
   ]
  },
  {
   "cell_type": "markdown",
   "metadata": {},
   "source": [
    "## Recherche du modèle plus performant avec la méthode **RandomOverSampling**"
   ]
  },
  {
   "cell_type": "code",
   "execution_count": 19,
   "metadata": {},
   "outputs": [
    {
     "name": "stdout",
     "output_type": "stream",
     "text": [
      "Modèle: Decision Tree Classifier - sampler: Random Over Sampler\n",
      "Meilleurs paramètres : {'m__criterion': 'entropy', 'm__min_samples_leaf': 2, 'm__min_samples_split': 3, 'm__splitter': 'best'}\n",
      "Accuracy (train) : 0.8281362007168458\n",
      "Balanced accuracy (train) : 0.8280409995796125\n",
      "Accuracy (test) : 0.8754965502822496\n",
      "Balanced accuracy (test) : 0.8758739743166866\n",
      "Matrice de confusion :\n",
      "col_0            0     1\n",
      "RainTomorrow            \n",
      "0             4067   768\n",
      "1              423  4308\n",
      "\n",
      "\n",
      "Modèle: Gradient Boosting Classifier - sampler: Random Over Sampler\n",
      "Meilleurs paramètres : {'m__learning_rate': 0.4, 'm__loss': 'deviance', 'm__n_estimators': 150}\n",
      "Accuracy (train) : 0.8137768817204301\n",
      "Balanced accuracy (train) : 0.8138367426792368\n",
      "Accuracy (test) : 0.8316955885427556\n",
      "Balanced accuracy (test) : 0.831784810826608\n",
      "Matrice de confusion :\n",
      "col_0            0     1\n",
      "RainTomorrow            \n",
      "0             3982   853\n",
      "1              757  3974\n",
      "\n",
      "\n",
      "Modèle: Gaussian NB - sampler: Random Over Sampler\n",
      "Meilleurs paramètres : {}\n",
      "Accuracy (train) : 0.7349910394265233\n",
      "Balanced accuracy (train) : 0.7354437330699627\n",
      "Accuracy (test) : 0.7371942295630357\n",
      "Balanced accuracy (test) : 0.7361424580376696\n",
      "Matrice de confusion :\n",
      "col_0            0     1\n",
      "RainTomorrow            \n",
      "0             4027   808\n",
      "1             1706  3025\n",
      "\n",
      "\n",
      "Modèle: Logistic Regression - sampler: Random Over Sampler\n",
      "Meilleurs paramètres : {'m__penalty': 'none', 'm__solver': 'newton-cg'}\n",
      "Accuracy (train) : 0.7801971326164874\n",
      "Balanced accuracy (train) : 0.7803270491782034\n",
      "Accuracy (test) : 0.7751411248170604\n",
      "Balanced accuracy (test) : 0.7748247002050547\n",
      "Matrice de confusion :\n",
      "col_0            0     1\n",
      "RainTomorrow            \n",
      "0             3887   948\n",
      "1             1203  3528\n",
      "\n",
      "\n",
      "Modèle: KNN - sampler: Random Over Sampler\n",
      "Meilleurs paramètres : {'m__algorithm': 'auto', 'm__n_neighbors': 8, 'm__weights': 'distance'}\n",
      "Accuracy (train) : 0.8338037634408602\n",
      "Balanced accuracy (train) : 0.8335324790561873\n",
      "Accuracy (test) : 0.883127744093665\n",
      "Balanced accuracy (test) : 0.8840664350101652\n",
      "Matrice de confusion :\n",
      "col_0            0     1\n",
      "RainTomorrow            \n",
      "0             3857   978\n",
      "1              140  4591\n",
      "\n",
      "\n"
     ]
    }
   ],
   "source": [
    "for samp_name, samp in samplers_to_compare.items():\n",
    "    if samp_name == \"Random Over Sampler\":\n",
    "        for param, (name, model) in zip(params_for_models, models_to_compare.items()):\n",
    "            res = models_accuracy(X, y, samp, model, param)\n",
    "            print(f'Modèle: {name} - sampler: {samp_name}\\n\\\n",
    "Meilleurs paramètres : {res[0]}\\n\\\n",
    "Accuracy (train) : {res[1]}\\n\\\n",
    "Balanced accuracy (train) : {res[2]}\\n\\\n",
    "Accuracy (test) : {res[3]}\\n\\\n",
    "Balanced accuracy (test) : {res[4]}\\n\\\n",
    "Matrice de confusion :\\n\\\n",
    "{res[5]}\\n\\n')\n",
    "    "
   ]
  },
  {
   "cell_type": "markdown",
   "metadata": {},
   "source": [
    "Le modèle ayant le meilleur résultat avec le **RandomOverSampling** est la méthode des `K Nearest Neighboors` avec  comme paramètres :\n",
    "\n",
    "`{'m__algorithm': 'auto', 'm__n_neighbors': 8, 'm__weights': 'distance'}`\n",
    "\n",
    "Balanced accuracy (train) : **83%**  \n",
    "Balanced accuracy (test) : **88%**"
   ]
  },
  {
   "cell_type": "markdown",
   "metadata": {},
   "source": [
    "## Recherche du modèle plus performant avec la méthode **SMOTE**"
   ]
  },
  {
   "cell_type": "code",
   "execution_count": 20,
   "metadata": {},
   "outputs": [
    {
     "name": "stdout",
     "output_type": "stream",
     "text": [
      "Modèle: Decision Tree Classifier - sampler: SMOTE\n",
      "Meilleurs paramètres : {'m__criterion': 'entropy', 'm__min_samples_leaf': 2, 'm__min_samples_split': 2, 'm__splitter': 'best'}\n",
      "Accuracy (train) : 0.8059587813620072\n",
      "Balanced accuracy (train) : 0.8060035538455497\n",
      "Accuracy (test) : 0.8282458707923898\n",
      "Balanced accuracy (test) : 0.8282130645261063\n",
      "Matrice de confusion :\n",
      "col_0            0     1\n",
      "RainTomorrow            \n",
      "0             4019   816\n",
      "1              827  3904\n",
      "\n",
      "Modèle: Gradient Boosting Classifier - sampler: SMOTE\n",
      "Meilleurs paramètres : {'m__learning_rate': 0.30000000000000004, 'm__loss': 'deviance', 'm__n_estimators': 150}\n",
      "Accuracy (train) : 0.8900089605734767\n",
      "Balanced accuracy (train) : 0.8900996160973054\n",
      "Accuracy (test) : 0.8966130043905499\n",
      "Balanced accuracy (test) : 0.8963632246287714\n",
      "Matrice de confusion :\n",
      "col_0            0     1\n",
      "RainTomorrow            \n",
      "0             4445   390\n",
      "1              599  4132\n",
      "\n",
      "Modèle: Gaussian NB - sampler: SMOTE\n",
      "Meilleurs paramètres : {}\n",
      "Accuracy (train) : 0.7383064516129032\n",
      "Balanced accuracy (train) : 0.7387208885212191\n",
      "Accuracy (test) : 0.7339535856157223\n",
      "Balanced accuracy (test) : 0.7329457600718008\n",
      "Matrice de confusion :\n",
      "col_0            0     1\n",
      "RainTomorrow            \n",
      "0             3992   843\n",
      "1             1702  3029\n",
      "\n",
      "Modèle: Logistic Regression - sampler: SMOTE\n",
      "Meilleurs paramètres : {'m__penalty': 'none', 'm__solver': 'sag'}\n",
      "Accuracy (train) : 0.7811827956989248\n",
      "Balanced accuracy (train) : 0.7813035526816643\n",
      "Accuracy (test) : 0.7795316746811625\n",
      "Balanced accuracy (test) : 0.7793089737713167\n",
      "Matrice de confusion :\n",
      "col_0            0     1\n",
      "RainTomorrow            \n",
      "0             3867   968\n",
      "1             1141  3590\n",
      "\n",
      "Modèle: KNN - sampler: SMOTE\n",
      "Meilleurs paramètres : {'m__algorithm': 'auto', 'm__n_neighbors': 6, 'm__weights': 'distance'}\n",
      "Accuracy (train) : 0.8476030465949822\n",
      "Balanced accuracy (train) : 0.8474331680244909\n",
      "Accuracy (test) : 0.8691197992891491\n",
      "Balanced accuracy (test) : 0.8696385498451653\n",
      "Matrice de confusion :\n",
      "col_0            0     1\n",
      "RainTomorrow            \n",
      "0             3974   861\n",
      "1              391  4340\n",
      "\n"
     ]
    }
   ],
   "source": [
    "for samp_name, samp in samplers_to_compare.items():\n",
    "    if samp_name == \"SMOTE\":\n",
    "        for param, (name, model) in zip(params_for_models, models_to_compare.items()):\n",
    "            res = models_accuracy(X, y, samp, model, param)\n",
    "            print(f'Modèle: {name} - sampler: {samp_name}\\n\\\n",
    "Meilleurs paramètres : {res[0]}\\n\\\n",
    "Accuracy (train) : {res[1]}\\n\\\n",
    "Balanced accuracy (train) : {res[2]}\\n\\\n",
    "Accuracy (test) : {res[3]}\\n\\\n",
    "Balanced accuracy (test) : {res[4]}\\n\\\n",
    "Matrice de confusion :\\n\\\n",
    "{res[5]}\\n')"
   ]
  },
  {
   "cell_type": "markdown",
   "metadata": {},
   "source": [
    "Le modèle ayant le meilleur résultat avec le **SMOTE** est la méthode du `Gradient Boosting` avec les paramètres suivants :\n",
    "\n",
    "`{'m__learning_rate': 0.30000000000000004, 'm__loss': 'deviance', 'm__n_estimators': 150}`\n",
    "\n",
    "Balanced accuracy (train) : **89%**  \n",
    "Balanced accuracy (test) : **90%**"
   ]
  },
  {
   "cell_type": "markdown",
   "metadata": {},
   "source": [
    "## Recherche du modèle plus performant avec la méthode **RandomUnderSampling**"
   ]
  },
  {
   "cell_type": "code",
   "execution_count": 21,
   "metadata": {},
   "outputs": [
    {
     "name": "stdout",
     "output_type": "stream",
     "text": [
      "Modèle: Decision Tree Classifier - sampler: Random Under Sampler\n",
      "Meilleurs paramètres : {'m__criterion': 'gini', 'm__min_samples_leaf': 5, 'm__min_samples_split': 2, 'm__splitter': 'random'}\n",
      "Accuracy (train) : 0.703636448997903\n",
      "Balanced accuracy (train) : 0.7036626478761228\n",
      "Accuracy (test) : 0.7137784090909091\n",
      "Balanced accuracy (test) : 0.7136607258168668\n",
      "Matrice de confusion :\n",
      "col_0            0    1\n",
      "RainTomorrow           \n",
      "0             1031  393\n",
      "1              413  979\n",
      "\n",
      "Modèle: Gradient Boosting Classifier - sampler: Random Under Sampler\n",
      "Meilleurs paramètres : {'m__learning_rate': 0.2, 'm__loss': 'exponential', 'm__n_estimators': 100}\n",
      "Accuracy (train) : 0.7824286696319789\n",
      "Balanced accuracy (train) : 0.7825239415950249\n",
      "Accuracy (test) : 0.7915482954545454\n",
      "Balanced accuracy (test) : 0.7912348250032287\n",
      "Matrice de confusion :\n",
      "col_0            0     1\n",
      "RainTomorrow            \n",
      "0             1166   258\n",
      "1              329  1063\n",
      "\n",
      "Modèle: Gaussian NB - sampler: Random Under Sampler\n",
      "Meilleurs paramètres : {}\n",
      "Accuracy (train) : 0.7295956255267255\n",
      "Balanced accuracy (train) : 0.730074745374421\n",
      "Accuracy (test) : 0.7450284090909091\n",
      "Balanced accuracy (test) : 0.7438008523827974\n",
      "Matrice de confusion :\n",
      "col_0            0    1\n",
      "RainTomorrow           \n",
      "0             1213  211\n",
      "1              507  885\n",
      "\n",
      "Modèle: Logistic Regression - sampler: Random Under Sampler\n",
      "Meilleurs paramètres : {'m__penalty': 'none', 'm__solver': 'newton-cg'}\n",
      "Accuracy (train) : 0.777861242393997\n",
      "Balanced accuracy (train) : 0.7780190400286779\n",
      "Accuracy (test) : 0.7730823863636364\n",
      "Balanced accuracy (test) : 0.7727988182874854\n",
      "Matrice de confusion :\n",
      "col_0            0     1\n",
      "RainTomorrow            \n",
      "0             1136   288\n",
      "1              351  1041\n",
      "\n",
      "Modèle: KNN - sampler: Random Under Sampler\n",
      "Meilleurs paramètres : {'m__algorithm': 'auto', 'm__n_neighbors': 9, 'm__weights': 'distance'}\n",
      "Accuracy (train) : 0.7523567161774134\n",
      "Balanced accuracy (train) : 0.7525094983015028\n",
      "Accuracy (test) : 0.7741477272727273\n",
      "Balanced accuracy (test) : 0.7737230401653106\n",
      "Matrice de confusion :\n",
      "col_0            0     1\n",
      "RainTomorrow            \n",
      "0             1155   269\n",
      "1              367  1025\n",
      "\n"
     ]
    }
   ],
   "source": [
    "for samp_name, samp in samplers_to_compare.items():\n",
    "    if samp_name == \"Random Under Sampler\":\n",
    "        for param, (name, model) in zip(params_for_models, models_to_compare.items()):\n",
    "            res = models_accuracy(X, y, samp, model, param)\n",
    "            print(f'Modèle: {name} - sampler: {samp_name}\\n\\\n",
    "Meilleurs paramètres : {res[0]}\\n\\\n",
    "Accuracy (train) : {res[1]}\\n\\\n",
    "Balanced accuracy (train) : {res[2]}\\n\\\n",
    "Accuracy (test) : {res[3]}\\n\\\n",
    "Balanced accuracy (test) : {res[4]}\\n\\\n",
    "Matrice de confusion :\\n\\\n",
    "{res[5]}\\n')"
   ]
  },
  {
   "cell_type": "markdown",
   "metadata": {},
   "source": [
    "Le modèle ayant le meilleur résultat avec le **RandomUnderSampling** est la méthode du `Gradient Boosting` avec les paramètres suivantes :  \n",
    "\n",
    "`{'m__learning_rate': 0.2, 'm__loss': 'exponential', 'm__n_estimators': 100}`\n",
    "\n",
    "Balanced accuracy (train) : **79%**  \n",
    "Balanced accuracy (test) : **79%**"
   ]
  },
  {
   "cell_type": "markdown",
   "metadata": {},
   "source": [
    "## Recherche du modèle plus performant avec la méthode **ClusterCentroids**"
   ]
  },
  {
   "cell_type": "code",
   "execution_count": 22,
   "metadata": {},
   "outputs": [
    {
     "name": "stdout",
     "output_type": "stream",
     "text": [
      "Modèle: Decision Tree Classifier - sampler: Cluster Centroids\n",
      "Meilleurs paramètres : {'m__criterion': 'gini', 'm__min_samples_leaf': 5, 'm__min_samples_split': 4, 'm__splitter': 'random'}\n",
      "Accuracy (train) : 0.7687254025718695\n",
      "Balanced accuracy (train) : 0.7687698901287912\n",
      "Accuracy (test) : 0.7755681818181818\n",
      "Balanced accuracy (test) : 0.7756279865685134\n",
      "Matrice de confusion :\n",
      "col_0            0     1\n",
      "RainTomorrow            \n",
      "0             1097   327\n",
      "1              305  1087\n",
      "\n",
      "Modèle: Gradient Boosting Classifier - sampler: Cluster Centroids\n",
      "Meilleurs paramètres : {'m__learning_rate': 0.4, 'm__loss': 'exponential', 'm__n_estimators': 140}\n",
      "Accuracy (train) : 0.8625154032790001\n",
      "Balanced accuracy (train) : 0.8624102014568036\n",
      "Accuracy (test) : 0.8661221590909091\n",
      "Balanced accuracy (test) : 0.8664237052821904\n",
      "Matrice de confusion :\n",
      "col_0            0     1\n",
      "RainTomorrow            \n",
      "0             1196   228\n",
      "1              149  1243\n",
      "\n",
      "Modèle: Gaussian NB - sampler: Cluster Centroids\n",
      "Meilleurs paramètres : {}\n",
      "Accuracy (train) : 0.737514446913606\n",
      "Balanced accuracy (train) : 0.7378346469599262\n",
      "Accuracy (test) : 0.7404119318181818\n",
      "Balanced accuracy (test) : 0.7397286258556115\n",
      "Matrice de confusion :\n",
      "col_0            0    1\n",
      "RainTomorrow           \n",
      "0             1139  285\n",
      "1              446  946\n",
      "\n",
      "Modèle: Logistic Regression - sampler: Cluster Centroids\n",
      "Meilleurs paramètres : {'m__penalty': 'none', 'm__solver': 'newton-cg'}\n",
      "Accuracy (train) : 0.7656792338875615\n",
      "Balanced accuracy (train) : 0.765782832895032\n",
      "Accuracy (test) : 0.7670454545454546\n",
      "Balanced accuracy (test) : 0.7668135735503034\n",
      "Matrice de confusion :\n",
      "col_0            0     1\n",
      "RainTomorrow            \n",
      "0             1121   303\n",
      "1              353  1039\n",
      "\n",
      "Modèle: KNN - sampler: Cluster Centroids\n",
      "Meilleurs paramètres : {'m__algorithm': 'auto', 'm__n_neighbors': 8, 'm__weights': 'distance'}\n",
      "Accuracy (train) : 0.8041255864258712\n",
      "Balanced accuracy (train) : 0.8040930707953413\n",
      "Accuracy (test) : 0.8181818181818182\n",
      "Balanced accuracy (test) : 0.8181825519824357\n",
      "Matrice de confusion :\n",
      "col_0            0     1\n",
      "RainTomorrow            \n",
      "0             1165   259\n",
      "1              253  1139\n",
      "\n"
     ]
    }
   ],
   "source": [
    "for samp_name, samp in samplers_to_compare.items():\n",
    "    if samp_name == \"Cluster Centroids\":\n",
    "        for param, (name, model) in zip(params_for_models, models_to_compare.items()):\n",
    "            res = models_accuracy(X, y, samp, model, param)\n",
    "            print(f'Modèle: {name} - sampler: {samp_name}\\n\\\n",
    "Meilleurs paramètres : {res[0]}\\n\\\n",
    "Accuracy (train) : {res[1]}\\n\\\n",
    "Balanced accuracy (train) : {res[2]}\\n\\\n",
    "Accuracy (test) : {res[3]}\\n\\\n",
    "Balanced accuracy (test) : {res[4]}\\n\\\n",
    "Matrice de confusion :\\n\\\n",
    "{res[5]}\\n')"
   ]
  },
  {
   "cell_type": "markdown",
   "metadata": {},
   "source": [
    "Le modèle ayant le meilleur résultat avec le **ClusterCentroids** est la méthode du `Gradient Boosting` avec les paramètres suivants :  \n",
    "\n",
    "`{'m__learning_rate': 0.4, 'm__loss': 'exponential', 'm__n_estimators': 120}`\n",
    "\n",
    "Balanced accuracy (train) : **86%**  \n",
    "\n",
    "Balanced accuracy (test) : **86%**"
   ]
  },
  {
   "cell_type": "markdown",
   "metadata": {},
   "source": [
    "## Recherche du modèle plus performant avec la méthode **SMOTEENN** (combine Over-sampling et Under-sampling)"
   ]
  },
  {
   "cell_type": "code",
   "execution_count": 23,
   "metadata": {},
   "outputs": [
    {
     "name": "stdout",
     "output_type": "stream",
     "text": [
      "Modèle: Decision Tree Classifier - sampler: SMOTEENN\n",
      "Meilleurs paramètres : {'m__criterion': 'entropy', 'm__min_samples_leaf': 2, 'm__min_samples_split': 5, 'm__splitter': 'best'}\n",
      "Accuracy (train) : 0.8764023146606699\n",
      "Balanced accuracy (train) : 0.8749958866967382\n",
      "Accuracy (test) : 0.8836194764987335\n",
      "Balanced accuracy (test) : 0.8817215422935942\n",
      "Matrice de confusion :\n",
      "col_0            0     1\n",
      "RainTomorrow            \n",
      "0             2615   393\n",
      "1              434  3664\n",
      "\n",
      "Modèle: Gradient Boosting Classifier - sampler: SMOTEENN\n",
      "Meilleurs paramètres : {'m__learning_rate': 0.4, 'm__loss': 'exponential', 'm__n_estimators': 150}\n",
      "Accuracy (train) : 0.932040630722418\n",
      "Balanced accuracy (train) : 0.9313189638005559\n",
      "Accuracy (test) : 0.9448179271708683\n",
      "Balanced accuracy (test) : 0.9440721133016033\n",
      "Matrice de confusion :\n",
      "col_0            0     1\n",
      "RainTomorrow            \n",
      "0             2831   183\n",
      "1              211  3915\n",
      "\n",
      "Modèle: Gaussian NB - sampler: SMOTEENN\n",
      "Meilleurs paramètres : {}\n",
      "Accuracy (train) : 0.7942307692307693\n",
      "Balanced accuracy (train) : 0.8045835517911076\n",
      "Accuracy (test) : 0.7951486259113854\n",
      "Balanced accuracy (test) : 0.8066276866603381\n",
      "Matrice de confusion :\n",
      "col_0            0     1\n",
      "RainTomorrow            \n",
      "0             2647   361\n",
      "1             1100  3024\n",
      "\n",
      "Modèle: Logistic Regression - sampler: SMOTEENN\n",
      "Meilleurs paramètres : {'m__penalty': 'l1', 'm__solver': 'liblinear'}\n",
      "Accuracy (train) : 0.8492049204920493\n",
      "Balanced accuracy (train) : 0.851908038603353\n",
      "Accuracy (test) : 0.8488030239395212\n",
      "Balanced accuracy (test) : 0.8521534966424366\n",
      "Matrice de confusion :\n",
      "col_0            0     1\n",
      "RainTomorrow            \n",
      "0             2644   381\n",
      "1              699  3419\n",
      "\n"
     ]
    }
   ],
   "source": [
    "for samp_name, samp in samplers_to_compare.items():\n",
    "    if samp_name == \"SMOTEENN\":\n",
    "        for param, (name, model) in zip(params_for_models, models_to_compare.items()):\n",
    "            res = models_accuracy(X, y, samp, model, param)\n",
    "            print(f'Modèle: {name} - sampler: {samp_name}\\n\\\n",
    "Meilleurs paramètres : {res[0]}\\n\\\n",
    "Accuracy (train) : {res[1]}\\n\\\n",
    "Balanced accuracy (train) : {res[2]}\\n\\\n",
    "Accuracy (test) : {res[3]}\\n\\\n",
    "Balanced accuracy (test) : {res[4]}\\n\\\n",
    "Matrice de confusion :\\n\\\n",
    "{res[5]}\\n')"
   ]
  },
  {
   "cell_type": "markdown",
   "metadata": {},
   "source": [
    "Le modèle ayant le meilleur résultat avec le **SMOTEENN** est la méthode du `Gradient Boosting` :  \n",
    "\n",
    "`{'m__algorithm': 'auto', 'm__n_neighbors': 6, 'm__weights': 'distance'}`\n",
    "\n",
    "Balanced accuracy (train) : **91%**  \n",
    "\n",
    "Balanced accuracy (test) : **93%** "
   ]
  },
  {
   "cell_type": "markdown",
   "metadata": {},
   "source": [
    "## Au vue des résultat nous pouvons choisir le modèle de `GradientBoostingClassifier` avec un reéchantillonage avec la méthode du `SMOTEENN`.  \n",
    "## Cela permet d'avoir un résulatat juste à plus de 93%. \n",
    "\n"
   ]
  }
 ],
 "metadata": {
  "interpreter": {
   "hash": "1ae24a3c219cdf6ecb4deec8bed379a4c0fc91832fced11cab2fe5baad78ad59"
  },
  "kernelspec": {
   "display_name": "Python 3.9.7 64-bit ('rain-project-sZsYC8sK': pipenv)",
   "name": "python3"
  },
  "language_info": {
   "codemirror_mode": {
    "name": "ipython",
    "version": 3
   },
   "file_extension": ".py",
   "mimetype": "text/x-python",
   "name": "python",
   "nbconvert_exporter": "python",
   "pygments_lexer": "ipython3",
   "version": "3.9.7"
  },
  "orig_nbformat": 4
 },
 "nbformat": 4,
 "nbformat_minor": 2
}
