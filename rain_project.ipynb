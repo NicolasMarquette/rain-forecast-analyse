{
 "cells": [
  {
   "cell_type": "markdown",
   "metadata": {},
   "source": [
    "<h1 style=\"font-size:300%;color:#006bd0\"><center><strong>RAIN FORECAST</strong></center></h1>"
   ]
  },
  {
   "cell_type": "markdown",
   "metadata": {},
   "source": [
    "# Import des modules"
   ]
  },
  {
   "cell_type": "code",
   "execution_count": 1,
   "metadata": {},
   "outputs": [],
   "source": [
    "import pandas as pd\n",
    "import numpy as np\n",
    "import seaborn as sns\n",
    "import matplotlib.pyplot as plt\n",
    "\n",
    "sns.set_theme()\n",
    "%matplotlib inline"
   ]
  },
  {
   "cell_type": "markdown",
   "metadata": {},
   "source": [
    "## Modules pour le machine learning et le preprocessing"
   ]
  },
  {
   "cell_type": "code",
   "execution_count": 23,
   "metadata": {},
   "outputs": [],
   "source": [
    "from sklearn.model_selection import train_test_split\n",
    "\n",
    "from sklearn.tree import DecisionTreeClassifier\n",
    "from sklearn.linear_model import LogisticRegression\n",
    "from sklearn.naive_bayes import GaussianNB\n",
    "from sklearn.neighbors import KNeighborsClassifier\n",
    "from sklearn.ensemble import GradientBoostingClassifier\n",
    "\n",
    "from sklearn.preprocessing import MinMaxScaler, OrdinalEncoder\n",
    "from sklearn.metrics import balanced_accuracy_score, accuracy_score\n",
    "\n",
    "from sklearn.model_selection import GridSearchCV\n",
    "\n",
    "from imblearn.pipeline import Pipeline\n",
    "from imblearn.over_sampling import RandomOverSampler, SMOTE\n",
    "from imblearn.under_sampling import RandomUnderSampler, ClusterCentroids\n",
    "from imblearn.combine import SMOTEENN\n",
    "\n",
    "import warnings\n",
    "warnings.filterwarnings(\"ignore\")\n"
   ]
  },
  {
   "cell_type": "markdown",
   "metadata": {},
   "source": [
    "# Importation du jeu de données"
   ]
  },
  {
   "cell_type": "code",
   "execution_count": 24,
   "metadata": {},
   "outputs": [
    {
     "data": {
      "text/html": [
       "<div>\n",
       "<style scoped>\n",
       "    .dataframe tbody tr th:only-of-type {\n",
       "        vertical-align: middle;\n",
       "    }\n",
       "\n",
       "    .dataframe tbody tr th {\n",
       "        vertical-align: top;\n",
       "    }\n",
       "\n",
       "    .dataframe thead th {\n",
       "        text-align: right;\n",
       "    }\n",
       "</style>\n",
       "<table border=\"1\" class=\"dataframe\">\n",
       "  <thead>\n",
       "    <tr style=\"text-align: right;\">\n",
       "      <th></th>\n",
       "      <th></th>\n",
       "      <th>MinTemp</th>\n",
       "      <th>MaxTemp</th>\n",
       "      <th>Rainfall</th>\n",
       "      <th>Evaporation</th>\n",
       "      <th>Sunshine</th>\n",
       "      <th>WindGustDir</th>\n",
       "      <th>WindGustSpeed</th>\n",
       "      <th>WindDir9am</th>\n",
       "      <th>WindDir3pm</th>\n",
       "      <th>WindSpeed9am</th>\n",
       "      <th>...</th>\n",
       "      <th>Humidity9am</th>\n",
       "      <th>Humidity3pm</th>\n",
       "      <th>Pressure9am</th>\n",
       "      <th>Pressure3pm</th>\n",
       "      <th>Cloud9am</th>\n",
       "      <th>Cloud3pm</th>\n",
       "      <th>Temp9am</th>\n",
       "      <th>Temp3pm</th>\n",
       "      <th>RainToday</th>\n",
       "      <th>RainTomorrow</th>\n",
       "    </tr>\n",
       "    <tr>\n",
       "      <th>Location</th>\n",
       "      <th>Date</th>\n",
       "      <th></th>\n",
       "      <th></th>\n",
       "      <th></th>\n",
       "      <th></th>\n",
       "      <th></th>\n",
       "      <th></th>\n",
       "      <th></th>\n",
       "      <th></th>\n",
       "      <th></th>\n",
       "      <th></th>\n",
       "      <th></th>\n",
       "      <th></th>\n",
       "      <th></th>\n",
       "      <th></th>\n",
       "      <th></th>\n",
       "      <th></th>\n",
       "      <th></th>\n",
       "      <th></th>\n",
       "      <th></th>\n",
       "      <th></th>\n",
       "      <th></th>\n",
       "    </tr>\n",
       "  </thead>\n",
       "  <tbody>\n",
       "    <tr>\n",
       "      <th rowspan=\"5\" valign=\"top\">Newcastle</th>\n",
       "      <th>2008-12-01</th>\n",
       "      <td>13.2</td>\n",
       "      <td>NaN</td>\n",
       "      <td>0.0</td>\n",
       "      <td>NaN</td>\n",
       "      <td>NaN</td>\n",
       "      <td>NaN</td>\n",
       "      <td>NaN</td>\n",
       "      <td>NW</td>\n",
       "      <td>NW</td>\n",
       "      <td>6.0</td>\n",
       "      <td>...</td>\n",
       "      <td>50.0</td>\n",
       "      <td>24.0</td>\n",
       "      <td>NaN</td>\n",
       "      <td>NaN</td>\n",
       "      <td>3.0</td>\n",
       "      <td>4.0</td>\n",
       "      <td>21.8</td>\n",
       "      <td>30.6</td>\n",
       "      <td>No</td>\n",
       "      <td>No</td>\n",
       "    </tr>\n",
       "    <tr>\n",
       "      <th>2008-12-02</th>\n",
       "      <td>NaN</td>\n",
       "      <td>32.2</td>\n",
       "      <td>0.0</td>\n",
       "      <td>NaN</td>\n",
       "      <td>NaN</td>\n",
       "      <td>NaN</td>\n",
       "      <td>NaN</td>\n",
       "      <td>NaN</td>\n",
       "      <td>NE</td>\n",
       "      <td>NaN</td>\n",
       "      <td>...</td>\n",
       "      <td>NaN</td>\n",
       "      <td>59.0</td>\n",
       "      <td>NaN</td>\n",
       "      <td>NaN</td>\n",
       "      <td>NaN</td>\n",
       "      <td>0.0</td>\n",
       "      <td>NaN</td>\n",
       "      <td>25.4</td>\n",
       "      <td>No</td>\n",
       "      <td>No</td>\n",
       "    </tr>\n",
       "    <tr>\n",
       "      <th>2008-12-03</th>\n",
       "      <td>16.2</td>\n",
       "      <td>32.2</td>\n",
       "      <td>0.0</td>\n",
       "      <td>NaN</td>\n",
       "      <td>NaN</td>\n",
       "      <td>NaN</td>\n",
       "      <td>NaN</td>\n",
       "      <td>N</td>\n",
       "      <td>SE</td>\n",
       "      <td>2.0</td>\n",
       "      <td>...</td>\n",
       "      <td>74.0</td>\n",
       "      <td>26.0</td>\n",
       "      <td>NaN</td>\n",
       "      <td>NaN</td>\n",
       "      <td>4.0</td>\n",
       "      <td>4.0</td>\n",
       "      <td>22.2</td>\n",
       "      <td>32.0</td>\n",
       "      <td>No</td>\n",
       "      <td>No</td>\n",
       "    </tr>\n",
       "    <tr>\n",
       "      <th>2008-12-04</th>\n",
       "      <td>19.2</td>\n",
       "      <td>24.0</td>\n",
       "      <td>0.0</td>\n",
       "      <td>NaN</td>\n",
       "      <td>NaN</td>\n",
       "      <td>NaN</td>\n",
       "      <td>NaN</td>\n",
       "      <td>SE</td>\n",
       "      <td>SE</td>\n",
       "      <td>22.0</td>\n",
       "      <td>...</td>\n",
       "      <td>66.0</td>\n",
       "      <td>61.0</td>\n",
       "      <td>NaN</td>\n",
       "      <td>NaN</td>\n",
       "      <td>7.0</td>\n",
       "      <td>5.0</td>\n",
       "      <td>20.4</td>\n",
       "      <td>23.0</td>\n",
       "      <td>No</td>\n",
       "      <td>No</td>\n",
       "    </tr>\n",
       "    <tr>\n",
       "      <th>2008-12-05</th>\n",
       "      <td>18.8</td>\n",
       "      <td>30.2</td>\n",
       "      <td>0.0</td>\n",
       "      <td>NaN</td>\n",
       "      <td>NaN</td>\n",
       "      <td>NaN</td>\n",
       "      <td>NaN</td>\n",
       "      <td>NE</td>\n",
       "      <td>NaN</td>\n",
       "      <td>4.0</td>\n",
       "      <td>...</td>\n",
       "      <td>85.0</td>\n",
       "      <td>NaN</td>\n",
       "      <td>NaN</td>\n",
       "      <td>NaN</td>\n",
       "      <td>8.0</td>\n",
       "      <td>NaN</td>\n",
       "      <td>20.0</td>\n",
       "      <td>NaN</td>\n",
       "      <td>No</td>\n",
       "      <td>No</td>\n",
       "    </tr>\n",
       "  </tbody>\n",
       "</table>\n",
       "<p>5 rows × 21 columns</p>\n",
       "</div>"
      ],
      "text/plain": [
       "                      MinTemp  MaxTemp  Rainfall  Evaporation  Sunshine  \\\n",
       "Location  Date                                                            \n",
       "Newcastle 2008-12-01     13.2      NaN       0.0          NaN       NaN   \n",
       "          2008-12-02      NaN     32.2       0.0          NaN       NaN   \n",
       "          2008-12-03     16.2     32.2       0.0          NaN       NaN   \n",
       "          2008-12-04     19.2     24.0       0.0          NaN       NaN   \n",
       "          2008-12-05     18.8     30.2       0.0          NaN       NaN   \n",
       "\n",
       "                     WindGustDir  WindGustSpeed WindDir9am WindDir3pm  \\\n",
       "Location  Date                                                          \n",
       "Newcastle 2008-12-01         NaN            NaN         NW         NW   \n",
       "          2008-12-02         NaN            NaN        NaN         NE   \n",
       "          2008-12-03         NaN            NaN          N         SE   \n",
       "          2008-12-04         NaN            NaN         SE         SE   \n",
       "          2008-12-05         NaN            NaN         NE        NaN   \n",
       "\n",
       "                      WindSpeed9am  ...  Humidity9am  Humidity3pm  \\\n",
       "Location  Date                      ...                             \n",
       "Newcastle 2008-12-01           6.0  ...         50.0         24.0   \n",
       "          2008-12-02           NaN  ...          NaN         59.0   \n",
       "          2008-12-03           2.0  ...         74.0         26.0   \n",
       "          2008-12-04          22.0  ...         66.0         61.0   \n",
       "          2008-12-05           4.0  ...         85.0          NaN   \n",
       "\n",
       "                      Pressure9am  Pressure3pm  Cloud9am  Cloud3pm  Temp9am  \\\n",
       "Location  Date                                                                \n",
       "Newcastle 2008-12-01          NaN          NaN       3.0       4.0     21.8   \n",
       "          2008-12-02          NaN          NaN       NaN       0.0      NaN   \n",
       "          2008-12-03          NaN          NaN       4.0       4.0     22.2   \n",
       "          2008-12-04          NaN          NaN       7.0       5.0     20.4   \n",
       "          2008-12-05          NaN          NaN       8.0       NaN     20.0   \n",
       "\n",
       "                      Temp3pm  RainToday RainTomorrow  \n",
       "Location  Date                                         \n",
       "Newcastle 2008-12-01     30.6         No           No  \n",
       "          2008-12-02     25.4         No           No  \n",
       "          2008-12-03     32.0         No           No  \n",
       "          2008-12-04     23.0         No           No  \n",
       "          2008-12-05      NaN         No           No  \n",
       "\n",
       "[5 rows x 21 columns]"
      ]
     },
     "execution_count": 24,
     "metadata": {},
     "output_type": "execute_result"
    }
   ],
   "source": [
    "df = pd.read_csv('https://assets-datascientest.s3-eu-west-1.amazonaws.com/de/total/rains.csv', index_col=[1,0])\n",
    "\n",
    "df.head()"
   ]
  },
  {
   "cell_type": "code",
   "execution_count": 25,
   "metadata": {},
   "outputs": [
    {
     "name": "stdout",
     "output_type": "stream",
     "text": [
      "(25631, 21)\n",
      "['Newcastle', 'Sydney', 'Canberra', 'Melbourne', 'Brisbane', 'GoldCoast', 'Adelaide', 'Perth']\n",
      "2007-11-01 -> 2017-06-25\n"
     ]
    }
   ],
   "source": [
    "print(df.shape)\n",
    "print(df.index.get_level_values(0).unique().tolist())\n",
    "print(df.index.get_level_values(1).min(), '->' , df.index.get_level_values(1).max())"
   ]
  },
  {
   "cell_type": "markdown",
   "metadata": {},
   "source": [
    "Le jeux de données contient **25 631** observations constituées de **21** colonnes concernant **8** villes australiennes du 2007 au 2017.\n",
    "\n",
    "La variable cible est *RainTomorrow*. Il s'agît d'une variable discrète qui peut prendre 2 valeurs (Yes/No) : le problème est donc un problème de **classification binaire**. \n",
    "\n",
    "Des 20 features, 17 sont des variables quantitatives et 3 qualitatives (*WindGustDir*, *WindDir9am*, *WindDir3pm*)."
   ]
  },
  {
   "cell_type": "markdown",
   "metadata": {},
   "source": [
    "# Analyse et préparation des données"
   ]
  },
  {
   "cell_type": "code",
   "execution_count": 26,
   "metadata": {},
   "outputs": [
    {
     "data": {
      "text/plain": [
       "0.5847216261558269"
      ]
     },
     "execution_count": 26,
     "metadata": {},
     "output_type": "execute_result"
    }
   ],
   "source": [
    "df.isna().any(axis=1).sum() / len(df)"
   ]
  },
  {
   "cell_type": "markdown",
   "metadata": {},
   "source": [
    "**58%** des observations contiennent au moins une valeure manquantes !"
   ]
  },
  {
   "cell_type": "code",
   "execution_count": 27,
   "metadata": {},
   "outputs": [
    {
     "name": "stdout",
     "output_type": "stream",
     "text": [
      "1062\n"
     ]
    }
   ],
   "source": [
    "print(df[\"RainTomorrow\"].isna().sum())\n",
    "df = df[-df[\"RainTomorrow\"].isna()]"
   ]
  },
  {
   "cell_type": "markdown",
   "metadata": {},
   "source": [
    "**1062** observations n'ont pas de valeur pour la variable cible. Nous commençons donc par éliminer ces observations."
   ]
  },
  {
   "cell_type": "markdown",
   "metadata": {},
   "source": [
    "Analyse de la répartition du nombre de variable manquante par observations"
   ]
  },
  {
   "cell_type": "code",
   "execution_count": 28,
   "metadata": {},
   "outputs": [
    {
     "data": {
      "image/png": "[encoded data removed]",
      "text/plain": [
       "<Figure size 864x576 with 1 Axes>"
      ]
     },
     "metadata": {
      "needs_background": "light"
     },
     "output_type": "display_data"
    }
   ],
   "source": [
    "plt.figure(figsize=(12,8))\n",
    "b = sns.histplot(\n",
    "    x=df.isna().sum(axis=1)+1,\n",
    "    cumulative=True, \n",
    "    stat=\"percent\", \n",
    "    bins=len(df.columns),\n",
    "    discrete=True\n",
    ")\n",
    "b.set_xticks(np.arange(1, len(df.columns)+1))\n",
    "b.set_yticks(np.arange(0,101, 5))\n",
    "b.set_ylim(0,100)\n",
    "b.set_xlabel(\"Nombre de valeurs manquantes\")\n",
    "b.set_ylabel(\"% cumulé dans le dataset\")\n",
    "b.xaxis.grid(True);"
   ]
  },
  {
   "cell_type": "markdown",
   "metadata": {},
   "source": [
    "Nous pouvons voir que si nous supprimons les observations ayant plus de 6 variables manquantes nous garderions encore 90% du jeux de données.  \n",
    "Supprimer les observations ayant un nombre trop important de variables manquantes permet d'éviter trop de biais lors de la modélisation en remplaçant ces valeurs."
   ]
  },
  {
   "cell_type": "markdown",
   "metadata": {},
   "source": [
    "Suppression des observations avec plus de 6 variables manquantes"
   ]
  },
  {
   "cell_type": "code",
   "execution_count": 29,
   "metadata": {},
   "outputs": [
    {
     "data": {
      "text/plain": [
       "(22268, 21)"
      ]
     },
     "execution_count": 29,
     "metadata": {},
     "output_type": "execute_result"
    }
   ],
   "source": [
    "df = df[df.isna().sum(axis=1) < 7]\n",
    "df.shape"
   ]
  },
  {
   "cell_type": "markdown",
   "metadata": {},
   "source": [
    "Nous avons maintenant un jeu de 22 268 observations"
   ]
  },
  {
   "cell_type": "markdown",
   "metadata": {},
   "source": [
    "Observons maintenant quelles est la distribution des valeurs manquantes par variable."
   ]
  },
  {
   "cell_type": "code",
   "execution_count": 30,
   "metadata": {},
   "outputs": [
    {
     "data": {
      "image/png": "[encoded data removed]",
      "text/plain": [
       "<Figure size 864x576 with 1 Axes>"
      ]
     },
     "metadata": {},
     "output_type": "display_data"
    }
   ],
   "source": [
    "plt.figure(figsize=(12,8))\n",
    "b = sns.barplot(x=df.columns, y=df.isna().sum() / len(df) * 100)\n",
    "b.set_xticklabels(b.get_xticklabels(), rotation=70)\n",
    "b.set_xlabel(\"Nom des variables\")\n",
    "b.set_ylabel(\"% de valeurs manquantes\")\n",
    "b.xaxis.grid(True);"
   ]
  },
  {
   "cell_type": "markdown",
   "metadata": {},
   "source": [
    "Nous pouvons voir qu'il y a 4 variables qui sont absentes dans plus d'un tiers des observations : *Evaporation*, *Sunshine*, *Cloud9am* et *Cloud3pm*.\n",
    "\n",
    "Observons la distribution de leur absence par ville."
   ]
  },
  {
   "cell_type": "code",
   "execution_count": 31,
   "metadata": {},
   "outputs": [
    {
     "data": {
      "image/png": "[encoded data removed]",
      "text/plain": [
       "<Figure size 1440x864 with 8 Axes>"
      ]
     },
     "metadata": {},
     "output_type": "display_data"
    }
   ],
   "source": [
    "fig, ax = plt.subplots(4,2, sharex=True, sharey=True, figsize=(20,12))\n",
    "\n",
    "for i, location in enumerate(df.index.get_level_values(0).unique()):\n",
    "    b = sns.barplot(x=df.columns, y=df.loc[location].isna().sum() / len(df.loc[location]) * 100, ax=ax[int(i/2),i%2])\n",
    "    b.set_xticklabels(b.get_xticklabels(), rotation=70)\n",
    "    b.set_title(location)\n",
    "    b.xaxis.grid(True)\n"
   ]
  },
  {
   "cell_type": "markdown",
   "metadata": {},
   "source": [
    "On peut observer que, pour les villes de Newcastle et Perth il n'y a pas du tout de données concernant ces 4 variables. Il paraît donc difficile de reconstruire leur valeur sur la base d'une interpolation ou d'une valeur moyenne. Nous décidons par conséquent d'éliminer ces 4 variables du jeu de données."
   ]
  },
  {
   "cell_type": "code",
   "execution_count": 32,
   "metadata": {},
   "outputs": [
    {
     "data": {
      "text/plain": [
       "(22268, 17)"
      ]
     },
     "execution_count": 32,
     "metadata": {},
     "output_type": "execute_result"
    }
   ],
   "source": [
    "df = df.drop([\"Evaporation\", \"Sunshine\", \"Cloud9am\", \"Cloud3pm\"], axis=1)\n",
    "df.shape"
   ]
  },
  {
   "cell_type": "markdown",
   "metadata": {},
   "source": [
    "Nous avons maintenant un jeu de 22 268 observations avec encore des Nans. Nous décidons de remplacer ces valeurs par une interpolation temporelle ville par ville. \n",
    "\n",
    "Cependant, avant, il est nécessaire avant de transformer les variables qualitatives en valeurs quantitatives."
   ]
  },
  {
   "cell_type": "code",
   "execution_count": 33,
   "metadata": {},
   "outputs": [],
   "source": [
    "dict_val = {\n",
    "    'N'     : 0,\n",
    "    'NNE'   : 22.5,\n",
    "    'NE'    : 45,\n",
    "    'ENE'   : 67.5,\n",
    "    'E'     : 90,\n",
    "    'ESE'   : 112.5,\n",
    "    'SE'    : 135,\n",
    "    'SSE'   : 157.5,\n",
    "    'S'     : 180,\n",
    "    'SSW'   : 202.5,\n",
    "    'SW'    : 225,\n",
    "    'WSW'   : 247.5,\n",
    "    'W'     : 270,\n",
    "    'WNW'\t: 292.5,\n",
    "    'NW'\t: 315,\n",
    "    'NNW'\t: 337.5,\n",
    "    'N'\t    : 360,\n",
    "\n",
    "    'Yes'   : 1,\n",
    "    'No'    : 0\n",
    "}\n",
    "\n",
    "df = df.replace(dict_val)"
   ]
  },
  {
   "cell_type": "code",
   "execution_count": 34,
   "metadata": {},
   "outputs": [
    {
     "data": {
      "text/plain": [
       "(20327, 17)"
      ]
     },
     "execution_count": 34,
     "metadata": {},
     "output_type": "execute_result"
    }
   ],
   "source": [
    "new_df = pd.DataFrame()\n",
    "for location in df.index.get_level_values(0).unique():\n",
    "    df_location = df.loc[location]\n",
    "    df_location.index = pd.DatetimeIndex(df_location.index)\n",
    "    df_location = df_location.interpolate(method='time').dropna().reset_index() #Drop first line, if first line is a Nan\n",
    "    df_location['Location'] = location\n",
    "    new_df = pd.concat([new_df, df_location])\n",
    "\n",
    "df = new_df.set_index(['Location', 'Date'])\n",
    "df.shape"
   ]
  },
  {
   "cell_type": "markdown",
   "metadata": {},
   "source": [
    "Pour terminer la préparation des données, nous ajoutons une variable raprésentant le mois de l'observation, qui a une influence sur la variable cible."
   ]
  },
  {
   "cell_type": "code",
   "execution_count": 35,
   "metadata": {},
   "outputs": [
    {
     "data": {
      "text/plain": [
       "(20327, 18)"
      ]
     },
     "execution_count": 35,
     "metadata": {},
     "output_type": "execute_result"
    }
   ],
   "source": [
    "df['Month'] = df.index.get_level_values(1).month\n",
    "df.shape"
   ]
  },
  {
   "cell_type": "markdown",
   "metadata": {},
   "source": [
    "Nous avons maintenant un jeu de données propre composé de **20 327** observations et **18** variables. \n",
    "\n",
    "Nous séparons le jeu de données en variable explicative **X** et variable cible **y**"
   ]
  },
  {
   "cell_type": "code",
   "execution_count": 36,
   "metadata": {},
   "outputs": [],
   "source": [
    "X = df.drop(columns=\"RainTomorrow\")\n",
    "y = df['RainTomorrow']"
   ]
  },
  {
   "cell_type": "markdown",
   "metadata": {},
   "source": [
    "# Modélisation\n",
    "\n",
    "Nous allons comparer dans cette partie la performance de différents modèles de classification binaire, en faisant varier leurs hyperparamètres (**hyperparameter tuning**).\n",
    "\n",
    "Pour cela, nous utilisons la fonction **GridSearchCV** de Scikit Learn."
   ]
  },
  {
   "cell_type": "code",
   "execution_count": 37,
   "metadata": {},
   "outputs": [],
   "source": [
    "def models_accuracy(X, y, sampler, models, params):\n",
    "    \"\"\"Function to find the better model and the best parameters.\"\"\"\n",
    "    resample = sampler\n",
    "    X_res, y_res = resample.fit_resample(X, y)\n",
    "    X_train,  X_test, y_train, y_test = train_test_split(X_res, y_res, test_size=0.3, random_state=42)\n",
    "\n",
    "    # Creation of a pipeline to scale the values and apply the model.\n",
    "    pipe = Pipeline(steps=[('preprocessor', MinMaxScaler()),\n",
    "                           ('m', models)])\n",
    "\n",
    "    # Tool to find the best parameters for a model.\n",
    "    grid = GridSearchCV(pipe, \n",
    "                        param_grid=params, \n",
    "                        scoring=[\"accuracy\", \"balanced_accuracy\"], \n",
    "                        n_jobs=2,\n",
    "                        refit=\"balanced_accuracy\",\n",
    "                        verbose=0)\n",
    "\n",
    "    # Training.\n",
    "    grid.fit(X_train, y_train)\n",
    "    accuracy_train = np.median([x for x in grid.cv_results_[\"mean_test_accuracy\"] if pd.isnull(x) == False])\n",
    "    balanced_accuracy_train = np.median([x for x in grid.cv_results_[\"mean_test_balanced_accuracy\"] if pd.isnull(x) == False])\n",
    "\n",
    "    # Test.\n",
    "    grid_predict = grid.predict(X_test)\n",
    "    accuracy_test = accuracy_score(y_test, grid_predict)\n",
    "    balanced_accuracy_test = balanced_accuracy_score(y_test, grid_predict)\n",
    "\n",
    "    # Resultat with the best parameters and the accuracy score \n",
    "    # and balanced accuracy score for both training and test\n",
    "    result = (grid.best_params_, accuracy_train, balanced_accuracy_train,\n",
    "    accuracy_test, balanced_accuracy_test, pd.crosstab(y_test, grid_predict))\n",
    "\n",
    "    return result\n",
    "    "
   ]
  },
  {
   "cell_type": "markdown",
   "metadata": {},
   "source": [
    "Nous avons selectionné 5 modèles de classification à comparer :\n",
    "- Arbre de décision\n",
    "- Gradient Boosting\n",
    "- Classificateur bayesien \n",
    "- Régression logistique\n",
    "- KNN"
   ]
  },
  {
   "cell_type": "code",
   "execution_count": 38,
   "metadata": {},
   "outputs": [],
   "source": [
    "models_to_compare = {\n",
    "    'Decision Tree Classifier' : DecisionTreeClassifier(class_weight=\"balanced\"), \n",
    "    'Gradient Boosting Classifier' : GradientBoostingClassifier(),\n",
    "    'Gaussian NB' : GaussianNB(),\n",
    "    'Logistic Regression' : LogisticRegression(max_iter=10000, n_jobs=1, class_weight=\"balanced\"),\n",
    "    'KNN' : KNeighborsClassifier(n_jobs=1)\n",
    "}"
   ]
  },
  {
   "cell_type": "markdown",
   "metadata": {},
   "source": [
    "Pour chaque modèle, nous avons défini une combinaison d'hyperparamètres à faire tester par GridSearchCV"
   ]
  },
  {
   "cell_type": "code",
   "execution_count": 39,
   "metadata": {},
   "outputs": [],
   "source": [
    "params_for_models = [\n",
    "        [{\"m__criterion\": [\"gini\", \"entropy\"],\n",
    "        \"m__splitter\": [\"best\", \"random\"],\n",
    "        \"m__min_samples_split\": np.arange(2, 6),\n",
    "        \"m__min_samples_leaf\": np.arange(2, 6)\n",
    "        }],\n",
    "        [{\"m__loss\": [\"deviance\", \"exponential\"],\n",
    "        \"m__learning_rate\": np.arange(0.1, 0.5, 0.1),\n",
    "        \"m__n_estimators\": np.arange(100, 160, 10),\n",
    "        }],\n",
    "        [{                    \n",
    "        }],   \n",
    "        [{\"m__penalty\": [\"l1\", \"l2\", \"elasticnet\", \"none\"],\n",
    "        \"m__solver\": [\"newton-cg\", \"lbfgs\", \"liblinear\", \"sag\", \"saga\"]}],\n",
    "        [{\"m__n_neighbors\": np.arange(5, 10),\n",
    "        \"m__weights\": [\"uniform\", \"distance\"],\n",
    "        \"m__algorithm\": [\"auto\", \"ball_tree\", \"kd_tree\", \"brute\"],\n",
    "        }]\n",
    "]\n"
   ]
  },
  {
   "cell_type": "markdown",
   "metadata": {},
   "source": [
    "Nous vérifions si le jeux de données est équilibré :"
   ]
  },
  {
   "cell_type": "code",
   "execution_count": 106,
   "metadata": {},
   "outputs": [],
   "source": [
    "rain = pd.DataFrame(y)"
   ]
  },
  {
   "cell_type": "code",
   "execution_count": 107,
   "metadata": {},
   "outputs": [
    {
     "data": {
      "image/png": "[encoded data removed]",
      "text/plain": [
       "<Figure size 720x576 with 1 Axes>"
      ]
     },
     "metadata": {},
     "output_type": "display_data"
    }
   ],
   "source": [
    "plt.figure(figsize=(10,8))\n",
    "b = sns.histplot(\n",
    "    rain.RainTomorrow,\n",
    "    stat=\"percent\",\n",
    "    discrete=True\n",
    ")\n",
    "b.set_xticks([0,1])\n",
    "b.set_yticks(np.arange(0,101, 10))\n",
    "b.set_ylim(0,100)\n",
    "b.set_xlabel(\"RainTomorrow\")\n",
    "b.set_ylabel(\"Répartition dans le dataset (%)\")\n",
    "b.xaxis.grid(True);"
   ]
  },
  {
   "cell_type": "markdown",
   "metadata": {},
   "source": [
    "On peut voir qu'il y a beaucoup plus de jours sans pluie (0) que des jours avec pluie (1). \n",
    "\n",
    "Pour compenser ce désequilibre, nous allons tester différents méthodes d'over-sampling et under-sampling :"
   ]
  },
  {
   "cell_type": "code",
   "execution_count": 41,
   "metadata": {},
   "outputs": [],
   "source": [
    "samplers_to_compare = {\n",
    "    \"Random Over Sampler\": RandomOverSampler(),\n",
    "    \"SMOTE\": SMOTE(random_state=42),\n",
    "    \"Random Under Sampler\": RandomUnderSampler(),\n",
    "    \"Cluster Centroids\": ClusterCentroids(),\n",
    "    \"SMOTEENN\": SMOTEENN()\n",
    "}"
   ]
  },
  {
   "cell_type": "markdown",
   "metadata": {},
   "source": [
    "## Recherche du modèle plus performant avec la méthode **RandomOverSampling**"
   ]
  },
  {
   "cell_type": "code",
   "execution_count": 42,
   "metadata": {},
   "outputs": [
    {
     "name": "stdout",
     "output_type": "stream",
     "text": [
      "Modèle: Decision Tree Classifier - sampler: Random Over Sampler\n",
      "Meilleurs paramètres : {'m__criterion': 'entropy', 'm__min_samples_leaf': 2, 'm__min_samples_split': 4, 'm__splitter': 'best'}\n",
      "Accuracy (train) : 0.8316204473201632\n",
      "Balanced accuracy (train) : 0.831514863181996\n",
      "Accuracy (test) : 0.8796816976127321\n",
      "Balanced accuracy (test) : 0.8802344566353187\n",
      "Matrice de confusion :\n",
      "col_0            0     1\n",
      "RainTomorrow            \n",
      "0             4040   745\n",
      "1              389  4251\n",
      "\n",
      "\n",
      "Modèle: Gradient Boosting Classifier - sampler: Random Over Sampler\n",
      "Meilleurs paramètres : {'m__learning_rate': 0.4, 'm__loss': 'deviance', 'm__n_estimators': 150}\n",
      "Accuracy (train) : 0.8141571835276089\n",
      "Balanced accuracy (train) : 0.8142157281912483\n",
      "Accuracy (test) : 0.8426525198938992\n",
      "Balanced accuracy (test) : 0.8426430250783699\n",
      "Matrice de confusion :\n",
      "col_0            0     1\n",
      "RainTomorrow            \n",
      "0             4035   750\n",
      "1              733  3907\n",
      "\n",
      "\n",
      "Modèle: Gaussian NB - sampler: Random Over Sampler\n",
      "Meilleurs paramètres : {}\n",
      "Accuracy (train) : 0.7324118215704349\n",
      "Balanced accuracy (train) : 0.73304686420344\n",
      "Accuracy (test) : 0.7461007957559682\n",
      "Balanced accuracy (test) : 0.7447557471264368\n",
      "Matrice de confusion :\n",
      "col_0            0     1\n",
      "RainTomorrow            \n",
      "0             3982   803\n",
      "1             1590  3050\n",
      "\n",
      "\n",
      "Modèle: Logistic Regression - sampler: Random Over Sampler\n",
      "Meilleurs paramètres : {'m__penalty': 'none', 'm__solver': 'newton-cg'}\n",
      "Accuracy (train) : 0.7766611200761857\n",
      "Balanced accuracy (train) : 0.7768440425850905\n",
      "Accuracy (test) : 0.7771883289124668\n",
      "Balanced accuracy (test) : 0.7767437304075235\n",
      "Matrice de confusion :\n",
      "col_0            0     1\n",
      "RainTomorrow            \n",
      "0             3855   930\n",
      "1             1170  3470\n",
      "\n",
      "\n",
      "Modèle: KNN - sampler: Random Over Sampler\n",
      "Meilleurs paramètres : {'m__algorithm': 'auto', 'm__n_neighbors': 8, 'm__weights': 'distance'}\n",
      "Accuracy (train) : 0.8345081390501172\n",
      "Balanced accuracy (train) : 0.8340975547224584\n",
      "Accuracy (test) : 0.8844562334217506\n",
      "Balanced accuracy (test) : 0.8858281086729363\n",
      "Matrice de confusion :\n",
      "col_0            0     1\n",
      "RainTomorrow            \n",
      "0             3812   973\n",
      "1              116  4524\n",
      "\n",
      "\n"
     ]
    }
   ],
   "source": [
    "for samp_name, samp in samplers_to_compare.items():\n",
    "    if samp_name == \"Random Over Sampler\":\n",
    "        for param, (name, model) in zip(params_for_models, models_to_compare.items()):\n",
    "            res = models_accuracy(X, y, samp, model, param)\n",
    "            print(f'Modèle: {name} - sampler: {samp_name}\\n\\\n",
    "Meilleurs paramètres : {res[0]}\\n\\\n",
    "Accuracy (train) : {res[1]}\\n\\\n",
    "Balanced accuracy (train) : {res[2]}\\n\\\n",
    "Accuracy (test) : {res[3]}\\n\\\n",
    "Balanced accuracy (test) : {res[4]}\\n\\\n",
    "Matrice de confusion :\\n\\\n",
    "{res[5]}\\n\\n')\n",
    "    "
   ]
  },
  {
   "cell_type": "markdown",
   "metadata": {},
   "source": [
    "Le modèle ayant le meilleur résultat avec le **RandomOverSampling** est la méthode des `K Nearest Neighboors` avec  comme paramètres :\n",
    "\n",
    "`{'m__algorithm': 'auto', 'm__n_neighbors': 8, 'm__weights': 'distance'}`\n",
    "\n",
    "Balanced accuracy (train) : **83%**  \n",
    "Balanced accuracy (test) : **88%**"
   ]
  },
  {
   "cell_type": "markdown",
   "metadata": {},
   "source": [
    "## Recherche du modèle plus performant avec la méthode **SMOTE**"
   ]
  },
  {
   "cell_type": "code",
   "execution_count": 43,
   "metadata": {},
   "outputs": [
    {
     "name": "stdout",
     "output_type": "stream",
     "text": [
      "Modèle: Decision Tree Classifier - sampler: SMOTE\n",
      "Meilleurs paramètres : {'m__criterion': 'entropy', 'm__min_samples_leaf': 3, 'm__min_samples_split': 4, 'm__splitter': 'best'}\n",
      "Accuracy (train) : 0.8076312004453821\n",
      "Balanced accuracy (train) : 0.8077643167647385\n",
      "Accuracy (test) : 0.8270557029177719\n",
      "Balanced accuracy (test) : 0.8269461859979101\n",
      "Matrice de confusion :\n",
      "col_0            0     1\n",
      "RainTomorrow            \n",
      "0             3991   794\n",
      "1              836  3804\n",
      "\n",
      "Modèle: Gradient Boosting Classifier - sampler: SMOTE\n",
      "Meilleurs paramètres : {'m__learning_rate': 0.4, 'm__loss': 'exponential', 'm__n_estimators': 150}\n",
      "Accuracy (train) : 0.890240860407221\n",
      "Balanced accuracy (train) : 0.890390690388977\n",
      "Accuracy (test) : 0.9009018567639258\n",
      "Balanced accuracy (test) : 0.9005583855799373\n",
      "Matrice de confusion :\n",
      "col_0            0     1\n",
      "RainTomorrow            \n",
      "0             4416   369\n",
      "1              565  4075\n",
      "\n",
      "Modèle: Gaussian NB - sampler: SMOTE\n",
      "Meilleurs paramètres : {}\n",
      "Accuracy (train) : 0.7403704084071542\n",
      "Balanced accuracy (train) : 0.7409299829100916\n",
      "Accuracy (test) : 0.7386737400530504\n",
      "Balanced accuracy (test) : 0.7372518286311389\n",
      "Matrice de confusion :\n",
      "col_0            0     1\n",
      "RainTomorrow            \n",
      "0             3970   815\n",
      "1             1648  2992\n",
      "\n",
      "Modèle: Logistic Regression - sampler: SMOTE\n",
      "Meilleurs paramètres : {'m__penalty': 'none', 'm__solver': 'lbfgs'}\n",
      "Accuracy (train) : 0.7836648721693437\n",
      "Balanced accuracy (train) : 0.7838113947609283\n",
      "Accuracy (test) : 0.7807957559681697\n",
      "Balanced accuracy (test) : 0.7803846656217346\n",
      "Matrice de confusion :\n",
      "col_0            0     1\n",
      "RainTomorrow            \n",
      "0             3862   923\n",
      "1             1143  3497\n",
      "\n",
      "Modèle: KNN - sampler: SMOTE\n",
      "Meilleurs paramètres : {'m__algorithm': 'auto', 'm__n_neighbors': 6, 'm__weights': 'distance'}\n",
      "Accuracy (train) : 0.8466051153360898\n",
      "Balanced accuracy (train) : 0.8465317064345608\n",
      "Accuracy (test) : 0.8682228116710875\n",
      "Balanced accuracy (test) : 0.8689851097178684\n",
      "Matrice de confusion :\n",
      "col_0            0     1\n",
      "RainTomorrow            \n",
      "0             3921   864\n",
      "1              378  4262\n",
      "\n"
     ]
    }
   ],
   "source": [
    "for samp_name, samp in samplers_to_compare.items():\n",
    "    if samp_name == \"SMOTE\":\n",
    "        for param, (name, model) in zip(params_for_models, models_to_compare.items()):\n",
    "            res = models_accuracy(X, y, samp, model, param)\n",
    "            print(f'Modèle: {name} - sampler: {samp_name}\\n\\\n",
    "Meilleurs paramètres : {res[0]}\\n\\\n",
    "Accuracy (train) : {res[1]}\\n\\\n",
    "Balanced accuracy (train) : {res[2]}\\n\\\n",
    "Accuracy (test) : {res[3]}\\n\\\n",
    "Balanced accuracy (test) : {res[4]}\\n\\\n",
    "Matrice de confusion :\\n\\\n",
    "{res[5]}\\n')"
   ]
  },
  {
   "cell_type": "markdown",
   "metadata": {},
   "source": [
    "Le modèle ayant le meilleur résultat avec le **SMOTE** est la méthode du `Gradient Boosting` avec les paramètres suivants :\n",
    "\n",
    "`{'m__learning_rate': 0.4, 'm__loss': 'exponential', 'm__n_estimators': 150}`\n",
    "\n",
    "Balanced accuracy (train) : **89%**  \n",
    "Balanced accuracy (test) : **90%**"
   ]
  },
  {
   "cell_type": "markdown",
   "metadata": {},
   "source": [
    "## Recherche du modèle plus performant avec la méthode **RandomUnderSampling**"
   ]
  },
  {
   "cell_type": "code",
   "execution_count": 44,
   "metadata": {},
   "outputs": [
    {
     "name": "stdout",
     "output_type": "stream",
     "text": [
      "Modèle: Decision Tree Classifier - sampler: Random Under Sampler\n",
      "Meilleurs paramètres : {'m__criterion': 'gini', 'm__min_samples_leaf': 5, 'm__min_samples_split': 4, 'm__splitter': 'random'}\n",
      "Accuracy (train) : 0.7147506308490253\n",
      "Balanced accuracy (train) : 0.7147835797820453\n",
      "Accuracy (test) : 0.727994227994228\n",
      "Balanced accuracy (test) : 0.7277421652421653\n",
      "Matrice de confusion :\n",
      "col_0            0    1\n",
      "RainTomorrow           \n",
      "0             1049  355\n",
      "1              399  969\n",
      "\n",
      "Modèle: Gradient Boosting Classifier - sampler: Random Under Sampler\n",
      "Meilleurs paramètres : {'m__learning_rate': 0.2, 'm__loss': 'deviance', 'm__n_estimators': 140}\n",
      "Accuracy (train) : 0.7785252536843854\n",
      "Balanced accuracy (train) : 0.7786230999105804\n",
      "Accuracy (test) : 0.7972582972582972\n",
      "Balanced accuracy (test) : 0.7971022642075274\n",
      "Matrice de confusion :\n",
      "col_0            0     1\n",
      "RainTomorrow            \n",
      "0             1136   268\n",
      "1              294  1074\n",
      "\n",
      "Modèle: Gaussian NB - sampler: Random Under Sampler\n",
      "Meilleurs paramètres : {}\n",
      "Accuracy (train) : 0.732835587176701\n",
      "Balanced accuracy (train) : 0.7333581176907603\n",
      "Accuracy (test) : 0.7554112554112554\n",
      "Balanced accuracy (test) : 0.7542922477133003\n",
      "Matrice de confusion :\n",
      "col_0            0    1\n",
      "RainTomorrow           \n",
      "0             1180  224\n",
      "1              454  914\n",
      "\n",
      "Modèle: Logistic Regression - sampler: Random Under Sampler\n",
      "Meilleurs paramètres : {'m__penalty': 'l1', 'm__solver': 'liblinear'}\n",
      "Accuracy (train) : 0.7730371958865416\n",
      "Balanced accuracy (train) : 0.7732171340561993\n",
      "Accuracy (test) : 0.7824675324675324\n",
      "Balanced accuracy (test) : 0.7823792922477133\n",
      "Matrice de confusion :\n",
      "col_0            0     1\n",
      "RainTomorrow            \n",
      "0             1108   296\n",
      "1              307  1061\n",
      "\n",
      "Modèle: KNN - sampler: Random Under Sampler\n",
      "Meilleurs paramètres : {'m__algorithm': 'auto', 'm__n_neighbors': 9, 'm__weights': 'uniform'}\n",
      "Accuracy (train) : 0.7493797896412857\n",
      "Balanced accuracy (train) : 0.7495288489532784\n",
      "Accuracy (test) : 0.7633477633477633\n",
      "Balanced accuracy (test) : 0.7628861148597991\n",
      "Matrice de confusion :\n",
      "col_0            0    1\n",
      "RainTomorrow           \n",
      "0             1121  283\n",
      "1              373  995\n",
      "\n"
     ]
    }
   ],
   "source": [
    "for samp_name, samp in samplers_to_compare.items():\n",
    "    if samp_name == \"Random Under Sampler\":\n",
    "        for param, (name, model) in zip(params_for_models, models_to_compare.items()):\n",
    "            res = models_accuracy(X, y, samp, model, param)\n",
    "            print(f'Modèle: {name} - sampler: {samp_name}\\n\\\n",
    "Meilleurs paramètres : {res[0]}\\n\\\n",
    "Accuracy (train) : {res[1]}\\n\\\n",
    "Balanced accuracy (train) : {res[2]}\\n\\\n",
    "Accuracy (test) : {res[3]}\\n\\\n",
    "Balanced accuracy (test) : {res[4]}\\n\\\n",
    "Matrice de confusion :\\n\\\n",
    "{res[5]}\\n')"
   ]
  },
  {
   "cell_type": "markdown",
   "metadata": {},
   "source": [
    "Le modèle ayant le meilleur résultat avec le **RandomUnderSampling** est la méthode du `Gradient Boosting` avec les paramètres suivantes :  \n",
    "\n",
    "`{'m__learning_rate': 0.2, 'm__loss': 'deviance', 'm__n_estimators': 140}`\n",
    "\n",
    "Balanced accuracy (train) : **78%**  \n",
    "Balanced accuracy (test) : **80%**"
   ]
  },
  {
   "cell_type": "markdown",
   "metadata": {},
   "source": [
    "## Recherche du modèle plus performant avec la méthode **ClusterCentroids**"
   ]
  },
  {
   "cell_type": "code",
   "execution_count": 45,
   "metadata": {},
   "outputs": [
    {
     "name": "stdout",
     "output_type": "stream",
     "text": [
      "Modèle: Decision Tree Classifier - sampler: Cluster Centroids\n",
      "Meilleurs paramètres : {'m__criterion': 'gini', 'm__min_samples_leaf': 5, 'm__min_samples_split': 5, 'm__splitter': 'random'}\n",
      "Accuracy (train) : 0.7617499291751686\n",
      "Balanced accuracy (train) : 0.7618499707696528\n",
      "Accuracy (test) : 0.7817460317460317\n",
      "Balanced accuracy (test) : 0.7816951566951567\n",
      "Matrice de confusion :\n",
      "col_0            0     1\n",
      "RainTomorrow            \n",
      "0             1103   301\n",
      "1              304  1064\n",
      "\n",
      "Modèle: Gradient Boosting Classifier - sampler: Cluster Centroids\n",
      "Meilleurs paramètres : {'m__learning_rate': 0.4, 'm__loss': 'deviance', 'm__n_estimators': 130}\n",
      "Accuracy (train) : 0.8583798625579897\n",
      "Balanced accuracy (train) : 0.8582631524717536\n",
      "Accuracy (test) : 0.8683261183261183\n",
      "Balanced accuracy (test) : 0.8686647173489279\n",
      "Matrice de confusion :\n",
      "col_0            0     1\n",
      "RainTomorrow            \n",
      "0             1183   221\n",
      "1              144  1224\n",
      "\n",
      "Modèle: Gaussian NB - sampler: Cluster Centroids\n",
      "Meilleurs paramètres : {}\n",
      "Accuracy (train) : 0.7408735182070619\n",
      "Balanced accuracy (train) : 0.7412637564060658\n",
      "Accuracy (test) : 0.7384559884559885\n",
      "Balanced accuracy (test) : 0.7377699055330634\n",
      "Matrice de confusion :\n",
      "col_0            0    1\n",
      "RainTomorrow           \n",
      "0             1110  294\n",
      "1              431  937\n",
      "\n",
      "Modèle: Logistic Regression - sampler: Cluster Centroids\n",
      "Meilleurs paramètres : {'m__penalty': 'none', 'm__solver': 'newton-cg'}\n",
      "Accuracy (train) : 0.7636076316295928\n",
      "Balanced accuracy (train) : 0.7637222413991155\n",
      "Accuracy (test) : 0.7784992784992785\n",
      "Balanced accuracy (test) : 0.7784337981706403\n",
      "Matrice de confusion :\n",
      "col_0            0     1\n",
      "RainTomorrow            \n",
      "0             1100   304\n",
      "1              310  1058\n",
      "\n",
      "Modèle: KNN - sampler: Cluster Centroids\n",
      "Meilleurs paramètres : {'m__algorithm': 'auto', 'm__n_neighbors': 8, 'm__weights': 'distance'}\n",
      "Accuracy (train) : 0.8146249391862734\n",
      "Balanced accuracy (train) : 0.8145901799296477\n",
      "Accuracy (test) : 0.8113275613275613\n",
      "Balanced accuracy (test) : 0.81145036737142\n",
      "Matrice de confusion :\n",
      "col_0            0     1\n",
      "RainTomorrow            \n",
      "0             1126   278\n",
      "1              245  1123\n",
      "\n"
     ]
    }
   ],
   "source": [
    "for samp_name, samp in samplers_to_compare.items():\n",
    "    if samp_name == \"Cluster Centroids\":\n",
    "        for param, (name, model) in zip(params_for_models, models_to_compare.items()):\n",
    "            res = models_accuracy(X, y, samp, model, param)\n",
    "            print(f'Modèle: {name} - sampler: {samp_name}\\n\\\n",
    "Meilleurs paramètres : {res[0]}\\n\\\n",
    "Accuracy (train) : {res[1]}\\n\\\n",
    "Balanced accuracy (train) : {res[2]}\\n\\\n",
    "Accuracy (test) : {res[3]}\\n\\\n",
    "Balanced accuracy (test) : {res[4]}\\n\\\n",
    "Matrice de confusion :\\n\\\n",
    "{res[5]}\\n')"
   ]
  },
  {
   "cell_type": "markdown",
   "metadata": {},
   "source": [
    "Le modèle ayant le meilleur résultat avec le **ClusterCentroids** est la méthode du `Gradient Boosting` avec les paramètres suivants :  \n",
    "\n",
    "`{'m__learning_rate': 0.4, 'm__loss': 'deviance', 'm__n_estimators': 130}`\n",
    "\n",
    "Balanced accuracy (train) : **86%**  \n",
    "\n",
    "Balanced accuracy (test) : **87%**"
   ]
  },
  {
   "cell_type": "markdown",
   "metadata": {},
   "source": [
    "## Recherche du modèle plus performant avec la méthode **SMOTEENN** (combine Over-sampling et Under-sampling)"
   ]
  },
  {
   "cell_type": "code",
   "execution_count": 46,
   "metadata": {},
   "outputs": [
    {
     "name": "stdout",
     "output_type": "stream",
     "text": [
      "Modèle: Decision Tree Classifier - sampler: SMOTEENN\n",
      "Meilleurs paramètres : {'m__criterion': 'entropy', 'm__min_samples_leaf': 2, 'm__min_samples_split': 2, 'm__splitter': 'best'}\n",
      "Accuracy (train) : 0.8709041262135921\n",
      "Balanced accuracy (train) : 0.8696012071190647\n",
      "Accuracy (test) : 0.8897225368063421\n",
      "Balanced accuracy (test) : 0.8879950228276419\n",
      "Matrice de confusion :\n",
      "col_0            0     1\n",
      "RainTomorrow            \n",
      "0             2619   368\n",
      "1              411  3666\n",
      "\n",
      "Modèle: Gradient Boosting Classifier - sampler: SMOTEENN\n",
      "Meilleurs paramètres : {'m__learning_rate': 0.4, 'm__loss': 'deviance', 'm__n_estimators': 150}\n",
      "Accuracy (train) : 0.9341441167528124\n",
      "Balanced accuracy (train) : 0.9333180335663053\n",
      "Accuracy (test) : 0.9391403035891616\n",
      "Balanced accuracy (test) : 0.9384027062488344\n",
      "Matrice de confusion :\n",
      "col_0            0     1\n",
      "RainTomorrow            \n",
      "0             2794   199\n",
      "1              230  3826\n",
      "\n",
      "Modèle: Gaussian NB - sampler: SMOTEENN\n",
      "Meilleurs paramètres : {}\n",
      "Accuracy (train) : 0.792321254847956\n",
      "Balanced accuracy (train) : 0.8024715932896814\n",
      "Accuracy (test) : 0.7964677396382281\n",
      "Balanced accuracy (test) : 0.8073090095339599\n",
      "Matrice de confusion :\n",
      "col_0            0     1\n",
      "RainTomorrow            \n",
      "0             2626   359\n",
      "1             1070  2966\n",
      "\n",
      "Modèle: Logistic Regression - sampler: SMOTEENN\n",
      "Meilleurs paramètres : {'m__penalty': 'l1', 'm__solver': 'saga'}\n",
      "Accuracy (train) : 0.8491619082703998\n",
      "Balanced accuracy (train) : 0.8516890216744306\n",
      "Accuracy (test) : 0.849270434905794\n",
      "Balanced accuracy (test) : 0.8505719031705024\n",
      "Matrice de confusion :\n",
      "col_0            0     1\n",
      "RainTomorrow            \n",
      "0             2556   420\n",
      "1              644  3439\n",
      "\n",
      "Modèle: KNN - sampler: SMOTEENN\n",
      "Meilleurs paramètres : {'m__algorithm': 'auto', 'm__n_neighbors': 6, 'm__weights': 'distance'}\n",
      "Accuracy (train) : 0.9139109212934715\n",
      "Balanced accuracy (train) : 0.9083356762707108\n",
      "Accuracy (test) : 0.9335231316725978\n",
      "Balanced accuracy (test) : 0.9272130455513441\n",
      "Matrice de confusion :\n",
      "col_0            0     1\n",
      "RainTomorrow            \n",
      "0             2650   347\n",
      "1              120  3908\n",
      "\n"
     ]
    }
   ],
   "source": [
    "for samp_name, samp in samplers_to_compare.items():\n",
    "    if samp_name == \"SMOTEENN\":\n",
    "        for param, (name, model) in zip(params_for_models, models_to_compare.items()):\n",
    "            res = models_accuracy(X, y, samp, model, param)\n",
    "            print(f'Modèle: {name} - sampler: {samp_name}\\n\\\n",
    "Meilleurs paramètres : {res[0]}\\n\\\n",
    "Accuracy (train) : {res[1]}\\n\\\n",
    "Balanced accuracy (train) : {res[2]}\\n\\\n",
    "Accuracy (test) : {res[3]}\\n\\\n",
    "Balanced accuracy (test) : {res[4]}\\n\\\n",
    "Matrice de confusion :\\n\\\n",
    "{res[5]}\\n')"
   ]
  },
  {
   "cell_type": "markdown",
   "metadata": {},
   "source": [
    "Le modèle ayant le meilleur résultat avec le **SMOTEENN** est la méthode du `Gradient Boosting` :  \n",
    "\n",
    "`{'m__learning_rate': 0.4, 'm__loss': 'deviance', 'm__n_estimators': 150}`\n",
    "\n",
    "Balanced accuracy (train) : **93%**  \n",
    "\n",
    "Balanced accuracy (test) : **94%** "
   ]
  },
  {
   "cell_type": "markdown",
   "metadata": {},
   "source": [
    "Au vue des résultat le modèle plus performant est le **GradientBoostingClassifier** avec un reéchantillonage avec la méthode du **SMOTEENN**.  \n",
    "\n",
    "L'accuracy du modèle sur le jeu de données de test est de **94%**. \n",
    "\n"
   ]
  }
 ],
 "metadata": {
  "interpreter": {
   "hash": "2471ee7476cb3fc11e921dc14ed1fbe2fe1f124e4f08b21ffbb17666fcfc2ef6"
  },
  "kernelspec": {
   "display_name": "Python 3.9.2 64-bit ('venv': venv)",
   "name": "python3"
  },
  "language_info": {
   "codemirror_mode": {
    "name": "ipython",
    "version": 3
   },
   "file_extension": ".py",
   "mimetype": "text/x-python",
   "name": "python",
   "nbconvert_exporter": "python",
   "pygments_lexer": "ipython3",
   "version": "3.9.2"
  },
  "orig_nbformat": 4
 },
 "nbformat": 4,
 "nbformat_minor": 2
}
